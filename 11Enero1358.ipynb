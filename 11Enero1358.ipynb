{
  "nbformat": 4,
  "nbformat_minor": 0,
  "metadata": {
    "colab": {
      "name": "11Enero1358.ipynb",
      "provenance": [],
      "collapsed_sections": [],
      "authorship_tag": "ABX9TyPRigsDvZDuc/kPy7ZlaMgk",
      "include_colab_link": true
    },
    "kernelspec": {
      "name": "python3",
      "display_name": "Python 3"
    }
  },
  "cells": [
    {
      "cell_type": "markdown",
      "metadata": {
        "id": "view-in-github",
        "colab_type": "text"
      },
      "source": [
        "<a href=\"https://colab.research.google.com/github/daayvm/EDD1358_2021/blob/master/11Enero1358.ipynb\" target=\"_parent\"><img src=\"https://colab.research.google.com/assets/colab-badge.svg\" alt=\"Open In Colab\"/></a>"
      ]
    },
    {
      "cell_type": "markdown",
      "metadata": {
        "id": "8LUVKad3e7KW"
      },
      "source": [
        "#Arboles"
      ]
    },
    {
      "cell_type": "code",
      "metadata": {
        "id": "lPGOIDEgW2pB"
      },
      "source": [
        "class NodoArbol:\r\n",
        "  def __init__( self, dato , hijo_i=None , hijo_d=None):\r\n",
        "    self.dato = dato\r\n",
        "    self.hijo_i = hijo_i\r\n",
        "    self.hijo_d = hijo_d\r\n",
        "    "
      ],
      "execution_count": 22,
      "outputs": []
    },
    {
      "cell_type": "code",
      "metadata": {
        "colab": {
          "base_uri": "https://localhost:8080/"
        },
        "id": "ZYuMfUJBXUpd",
        "outputId": "4d766427-66a3-4b29-f950-09d1b9c1fce6"
      },
      "source": [
        "a1 = NodoArbol(\"R\")\r\n",
        "a1.hijo_d = NodoArbol(\"H\")\r\n",
        "a1.hijo_i = NodoArbol(\"C\")\r\n",
        "print(a1.dato)\r\n",
        "print(a1.hijo_d.dato)\r\n",
        "print(a1.hijo_i.dato)\r\n"
      ],
      "execution_count": 14,
      "outputs": [
        {
          "output_type": "stream",
          "text": [
            "R\n",
            "H\n",
            "C\n"
          ],
          "name": "stdout"
        }
      ]
    },
    {
      "cell_type": "code",
      "metadata": {
        "colab": {
          "base_uri": "https://localhost:8080/"
        },
        "id": "ST_gNJmyYItX",
        "outputId": "53a6e775-d8da-4648-8565-689ea3cd45ff"
      },
      "source": [
        "a2 = NodoArbol(\"R\" , NodoArbol(\"C\") , NodoArbol(\"H\"))\r\n",
        "print(a2.dato)\r\n",
        "print(a1.hijo_d.dato)\r\n",
        "print(a1.hijo_i.dato)"
      ],
      "execution_count": 16,
      "outputs": [
        {
          "output_type": "stream",
          "text": [
            "R\n",
            "H\n",
            "C\n"
          ],
          "name": "stdout"
        }
      ]
    },
    {
      "cell_type": "code",
      "metadata": {
        "colab": {
          "base_uri": "https://localhost:8080/"
        },
        "id": "qF2-r63RYIie",
        "outputId": "9ebb121a-845a-4fb0-b766-c6bdb4cd2bad"
      },
      "source": [
        "a3 = NodoArbol(4 , NodoArbol(3, NodoArbol(2 , NodoArbol(2))) , NodoArbol(5))\r\n",
        "print(a3.hijo_i.hijo_i.hijo_i.dato)\r\n",
        "\r\n",
        "aux = a3\r\n",
        "while aux.hijo_i !=None:\r\n",
        "  aux = aux.hijo_i\r\n",
        "print(aux.dato)"
      ],
      "execution_count": 20,
      "outputs": [
        {
          "output_type": "stream",
          "text": [
            "2\n",
            "2\n"
          ],
          "name": "stdout"
        }
      ]
    },
    {
      "cell_type": "code",
      "metadata": {
        "id": "Wb2WA2mnaTKs"
      },
      "source": [
        "class NodoArbol2:\r\n",
        "  def __init__( self, dato , hijo_1=None , hijo_2=None, hijo_3 = None):\r\n",
        "    self.dato = dato\r\n",
        "    self.hijo_1 = hijo_1\r\n",
        "    self.hijo_2 = hijo_2\r\n",
        "    self.hijo_3 = hijo_3"
      ],
      "execution_count": 25,
      "outputs": []
    },
    {
      "cell_type": "code",
      "metadata": {
        "colab": {
          "base_uri": "https://localhost:8080/"
        },
        "id": "2ukFe7K6YxGZ",
        "outputId": "37baa44e-e2b8-4f08-8708-0853430db33e"
      },
      "source": [
        "a4 = NodoArbol2(\"R\", NodoArbol2(\"I\",NodoArbol2(\"X\")) , NodoArbol2(\"C\", NodoArbol2(\"Y\")), NodoArbol2(\"D\" , NodoArbol2(\"Z\")))\r\n",
        "\r\n",
        "print(\"Nivel 0: \" + a4.dato)\r\n",
        "print(\"Nivel 1: \" + a4.hijo_1.dato)\r\n",
        "print(\"Nivel 2: \" + a4.hijo_1.hijo_1.dato)\r\n",
        "print(\"Nivel 1: \" + a4.hijo_2.dato)\r\n",
        "print(\"Nivel 2: \" + a4.hijo_2.hijo_1.dato)\r\n",
        "print(\"Nivel 1: \" + a4.hijo_3.dato)\r\n",
        "print(\"Nivel 2: \" + a4.hijo_3.hijo_1.dato)\r\n"
      ],
      "execution_count": 34,
      "outputs": [
        {
          "output_type": "stream",
          "text": [
            "Nivel 0: R\n",
            "Nivel 1: I\n",
            "Nivel 2: X\n",
            "Nivel 1: C\n",
            "Nivel 2: Y\n",
            "Nivel 1: D\n",
            "Nivel 2: Z\n"
          ],
          "name": "stdout"
        }
      ]
    },
    {
      "cell_type": "code",
      "metadata": {
        "id": "oTv2fRfzaN-G"
      },
      "source": [
        ""
      ],
      "execution_count": null,
      "outputs": []
    }
  ]
}
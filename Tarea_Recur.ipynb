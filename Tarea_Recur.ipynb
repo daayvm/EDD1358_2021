{
  "nbformat": 4,
  "nbformat_minor": 0,
  "metadata": {
    "colab": {
      "name": "Tarea_Recur.ipynb",
      "provenance": [],
      "authorship_tag": "ABX9TyM0+9twDjFkQHKCjV1fjRIS",
      "include_colab_link": true
    },
    "kernelspec": {
      "name": "python3",
      "display_name": "Python 3"
    }
  },
  "cells": [
    {
      "cell_type": "markdown",
      "metadata": {
        "id": "view-in-github",
        "colab_type": "text"
      },
      "source": [
        "<a href=\"https://colab.research.google.com/github/daayvm/EDD1358_2021/blob/master/Tarea_Recur.ipynb\" target=\"_parent\"><img src=\"https://colab.research.google.com/assets/colab-badge.svg\" alt=\"Open In Colab\"/></a>"
      ]
    },
    {
      "cell_type": "code",
      "metadata": {
        "id": "ZKukO5Nem7jf",
        "colab": {
          "base_uri": "https://localhost:8080/"
        },
        "outputId": "6e9ecba4-6dc9-4814-84f4-4635a1ea43cd"
      },
      "source": [
        "\"\"\"\r\n",
        "Suma\r\n",
        "\"\"\"\r\n",
        "def sumar(lista):\r\n",
        "  if (len(lista) == 0 ):\r\n",
        "    return 0\r\n",
        "  else:\r\n",
        "    return lista[0] + sumar(lista[1: ])\r\n",
        "\r\n",
        "l = [20,1,20,6,3,18,50]\r\n",
        "print(\"La suma de la lista es: \" + str(sumar(l)))\r\n"
      ],
      "execution_count": null,
      "outputs": [
        {
          "output_type": "stream",
          "text": [
            "La suma de la lista es: 118\n"
          ],
          "name": "stdout"
        }
      ]
    },
    {
      "cell_type": "code",
      "metadata": {
        "colab": {
          "base_uri": "https://localhost:8080/"
        },
        "id": "eKhRYqBWkuBj",
        "outputId": "3589facf-db35-4680-deab-de80710f4f81"
      },
      "source": [
        "\"\"\"\r\n",
        "Cuenta regresiva\r\n",
        "\"\"\"\r\n",
        "def printRev(n):\r\n",
        "  if n > 0 :\r\n",
        "    print(n)\r\n",
        "    printRev(n-1)      \r\n",
        "printRev(5)"
      ],
      "execution_count": null,
      "outputs": [
        {
          "output_type": "stream",
          "text": [
            "5\n",
            "4\n",
            "3\n",
            "2\n",
            "1\n"
          ],
          "name": "stdout"
        }
      ]
    },
    {
      "cell_type": "code",
      "metadata": {
        "id": "AzT_NGEOEkPp"
      },
      "source": [
        "\"\"\"\r\n",
        "Pila\r\n",
        "\"\"\"\r\n",
        "class Stack:\r\n",
        "  def __init__(self):\r\n",
        "    self.__dato = []\r\n",
        "    self.__size = 0\r\n",
        "  \r\n",
        "  def is_empty(self):\r\n",
        "    return self.__size == 0\r\n",
        "  \r\n",
        "  def length(self):\r\n",
        "    return len(self.__dato)\r\n",
        "  \r\n",
        "  def pop(self):\r\n",
        "    self.__size -= 1\r\n",
        "    return self.__dato.pop()\r\n",
        "  \r\n",
        "  def peak(self): #elemento tope de abajo\r\n",
        "    return self.__dato[-1]\r\n",
        "  \r\n",
        "  def push(self, value ):\r\n",
        "    self.__dato.append(value)\r\n",
        "    self.__size += 1\r\n",
        "  \r\n",
        "  def to_string(self):\r\n",
        "    print(\"---------\")\r\n",
        "    for dat in self.__dato[::-1]:\r\n",
        "      print(f\" | {dat} |\")\r\n",
        "      print(\"--------\")\r\n",
        "\r\n",
        "\r\n",
        "\r\n",
        "  def sacar_medio(pila , medio):\r\n",
        "    medio = int((pila.length() / 2))\r\n",
        "    guardar = pila.pop()\r\n",
        "\r\n",
        "    if  pila.length() == medio :\r\n",
        "      pila.pop()\r\n",
        "\r\n",
        "    else:\r\n",
        "      guardar.push()\r\n",
        "      sacar_medio(pila)\r\n",
        "      "
      ],
      "execution_count": 2,
      "outputs": []
    },
    {
      "cell_type": "code",
      "metadata": {
        "colab": {
          "base_uri": "https://localhost:8080/"
        },
        "id": "njvLkL-7TD90",
        "outputId": "23773c7c-1782-44c7-9770-7e8b849e113c"
      },
      "source": [
        "pila = Stack()\r\n",
        "pila.push(1)\r\n",
        "pila.push(2)\r\n",
        "pila.push(3)\r\n",
        "pila.push(4)\r\n",
        "pila.push(5)\r\n",
        "pila.to_string()\r\n",
        "pila.sacar_medio()\r\n",
        "\r\n",
        "\r\n"
      ],
      "execution_count": 3,
      "outputs": [
        {
          "output_type": "stream",
          "text": [
            "---------\n",
            " | 5 |\n",
            "--------\n",
            " | 4 |\n",
            "--------\n",
            " | 3 |\n",
            "--------\n",
            " | 2 |\n",
            "--------\n",
            " | 1 |\n",
            "--------\n"
          ],
          "name": "stdout"
        }
      ]
    }
  ]
}
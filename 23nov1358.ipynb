{
  "nbformat": 4,
  "nbformat_minor": 0,
  "metadata": {
    "colab": {
      "name": "23nov1358.ipynb",
      "provenance": [],
      "authorship_tag": "ABX9TyOr8vZU6Sq/RtYezIobmjKj",
      "include_colab_link": true
    },
    "kernelspec": {
      "name": "python3",
      "display_name": "Python 3"
    }
  },
  "cells": [
    {
      "cell_type": "markdown",
      "metadata": {
        "id": "view-in-github",
        "colab_type": "text"
      },
      "source": [
        "<a href=\"https://colab.research.google.com/github/daayvm/EDD1358_2021/blob/master/23nov1358.ipynb\" target=\"_parent\"><img src=\"https://colab.research.google.com/assets/colab-badge.svg\" alt=\"Open In Colab\"/></a>"
      ]
    },
    {
      "cell_type": "code",
      "metadata": {
        "id": "CCdpiGyQ4Nsc"
      },
      "source": [
        "#Codfio 23 noviembre\n",
        "class Nodo:\n",
        "  def __init__( self , dato , siguiente=None):\n",
        "    self.dato = dato\n",
        "    self.siguiente = siguiente\n",
        "\n",
        "class LinkedList:\n",
        "    def __init__ (self):\n",
        "      self.__head = None\n",
        "\n",
        "    def is_empty(self): #preguntamos si la head apunta a algo vacio\n",
        "      return self.__head == None\n",
        "\n",
        "    def tail(self): #regresa ultimo nodo\n",
        "      curr_node = self.__head\n",
        "      while curr_node != None and curr_node.siguiente != None:\n",
        "        curr_node = curr_node.siguiente\n",
        "      return curr_node\n",
        "  \n",
        "    def append ( self, value ): #agrega un nuevo nodod y lo direccionamos \n",
        "      nuevo = Nodo( value )\n",
        "      if self.__head == None : #signifa vacia\n",
        "          self.__head == nuevo     \n",
        "      else:\n",
        "        self.tail().siguiente = nuevo #no vacia \n",
        "    \n",
        "    def transversal (self):\n",
        "      curr_node = self.__head\n",
        "      if curr_node ==None:\n",
        "        print(\"VACIA\")\n",
        "      else:\n",
        "        while curr_node != None:\n",
        "          print(f\" { curr_node.dato } --> \", end = \"\")\n",
        "          curr_node = curr_node.siguiente\n",
        "      print(\"\")\n",
        "     \n",
        "    def preppend(self, value):\n",
        "      nuevo = Nodo (value)\n",
        "      if self.__head == None:\n",
        "         self.__head == nuevo\n",
        "      else:\n",
        "        x = self.__head\n",
        "        self.__head = nuevo\n",
        "        nuevo.sigueinte = x\n",
        "\n",
        "\n"
      ],
      "execution_count": 40,
      "outputs": []
    },
    {
      "cell_type": "code",
      "metadata": {
        "id": "2Hp65I2B4PnA"
      },
      "source": [
        "l = LinkedList()\n",
        "print(f\"l esta vacia? =  { l.is_empty() }  \" )\n",
        "x = l.tail()\n",
        "print(x)\n",
        "l.append(10)\n",
        "l.append(20)\n",
        "l.append(30)\n",
        "l.append(40)\n",
        "l.transversal()\n",
        "l.preppend( 5 )\n",
        "l.transversal()"
      ],
      "execution_count": null,
      "outputs": []
    }
  ]
}
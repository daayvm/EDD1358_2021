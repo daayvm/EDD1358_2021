{
  "nbformat": 4,
  "nbformat_minor": 0,
  "metadata": {
    "colab": {
      "name": "4dic1358.ipynb",
      "provenance": [],
      "collapsed_sections": [],
      "authorship_tag": "ABX9TyPtuJVIGWFLnxZ5inZ53Bwm",
      "include_colab_link": true
    },
    "kernelspec": {
      "name": "python3",
      "display_name": "Python 3"
    }
  },
  "cells": [
    {
      "cell_type": "markdown",
      "metadata": {
        "id": "view-in-github",
        "colab_type": "text"
      },
      "source": [
        "<a href=\"https://colab.research.google.com/github/daayvm/EDD1358_2021/blob/master/4dic1358.ipynb\" target=\"_parent\"><img src=\"https://colab.research.google.com/assets/colab-badge.svg\" alt=\"Open In Colab\"/></a>"
      ]
    },
    {
      "cell_type": "code",
      "metadata": {
        "id": "p0Y6oEdAj81S"
      },
      "source": [
        "class Array2D:\n",
        "\n",
        "    def __init__(self,rows, cols, value):\n",
        "        self.__cols = cols\n",
        "        self.__rows = rows\n",
        "        self.__array=[[value for x in range(self.__cols)] for y in range(self.__rows)]\n",
        "\n",
        "    def to_string(self):\n",
        "        [print(\"---\",end=\"\") for x in range(self.__cols)]\n",
        "        print(\"\")\n",
        "        for ren in self.__array:\n",
        "            print(ren)\n",
        "        [print(\"---\",end=\"\") for x in range(self.__cols)]\n",
        "        print(\"\")\n",
        "\n",
        "    def get_num_rows(self):\n",
        "        return self.__rows\n",
        "\n",
        "    def get_num_cols(self):\n",
        "        return self.__cols\n",
        "\n",
        "    def get_item(self,row,col):\n",
        "        return self.__array[row][col]\n",
        "\n",
        "    def set_item( self , row , col , valor ):\n",
        "        self.__array[row][col]=valor\n",
        "\n",
        "    def clearing(self, valor=0):\n",
        "        for ren in range(self.__rows):\n",
        "            for col in range(self.__cols):\n",
        "                self.__array[ren][col]=valor"
      ],
      "execution_count": 5,
      "outputs": []
    },
    {
      "cell_type": "code",
      "metadata": {
        "id": "d9OSYEL4owNQ"
      },
      "source": [
        "class Stack:\n",
        "    def __init__(self):\n",
        "        self.__data = []\n",
        "        self.__size = 0\n",
        "\n",
        "    def pop(self):\n",
        "        return self.__data.pop()\n",
        "\n",
        "    def get_size(self):\n",
        "        return self.__size\n",
        "\n",
        "    def peak(self):\n",
        "        if len(self.__data) > 0:\n",
        "            return self.__data[-1]\n",
        "        else:\n",
        "            return None\n",
        "\n",
        "    def push(self,value):\n",
        "        self.__data.append(value)\n",
        "        self.__size += 1\n",
        "\n",
        "    def to_string(self):\n",
        "        print(\"-\"*6)\n",
        "        for dato in self.__data[::-1]:\n",
        "            print(f\"| {dato} |\")\n",
        "            print(\"/\" * 6)\n",
        "        print(\"\")"
      ],
      "execution_count": 13,
      "outputs": []
    },
    {
      "cell_type": "code",
      "metadata": {
        "id": "TSYmbngRkVeI"
      },
      "source": [
        "class LabADT:\n",
        "  def __init__(self, archivo,):\n",
        "    self.__laberinto = Array2D(0,0,0)\n",
        "    self.__camino = Stack()\n",
        "    self.__rengs = 0\n",
        "    self.__colu = 0\n",
        "    self.__entrada = (0,0)\n",
        "\n",
        "    entrada = open(archivo , 'rt')\n",
        "    dato = entrada.readlines()\n",
        "    self.__rengs = int(dato.pop(0).strip())\n",
        "    self.__colu = int(dato.pop(0).strip())\n",
        "    self.__entrada = list(dato[0].strip().split(','))\n",
        "    self.__entrada[0] = int(self.__entrada[0])\n",
        "    self.__entrada[1] = int(self.__entrada[1])\n",
        "\n",
        "    dato.pop(0) #Bye tupla\n",
        "    print(self.__rengs , self.__colu, self.__entrada)\n",
        "    print(dato)\n",
        "\n",
        "    self.__laberinto = Array2D(self.__rengs , self.__colu, '1')\n",
        "    for renglon in range(self.__rengs):\n",
        "      info_ren = dato[renglon].strip().split(',')\n",
        "\n",
        "      for col in range(self.__colu):\n",
        "        self.__laberinto.set_item(renglon,col,info_ren[col])\n",
        "    \n",
        "    self.__laberinto.to_string()\n",
        "  \n",
        "  def resolver(self):\n",
        "    actual = self.__camino.peak()\n",
        "  \n",
        "  def otro():\n",
        "    pass\n"
      ],
      "execution_count": 31,
      "outputs": []
    },
    {
      "cell_type": "code",
      "metadata": {
        "colab": {
          "base_uri": "https://localhost:8080/"
        },
        "id": "CYlORSlbnWQR",
        "outputId": "86677849-0cfc-4bfa-98bf-0674f1a4ee8e"
      },
      "source": [
        "laberinto = LabADT(\"Entrada.txt\")"
      ],
      "execution_count": 32,
      "outputs": [
        {
          "output_type": "stream",
          "text": [
            "7 7 [6, 2]\n",
            "['1,1,1,1,1,1,1\\n', '1,1,1,1,1,1,1\\n', '1,1,1,1,1,1,1\\n', '1,1,1,1,1,1,1\\n', '1,0,0,0,0,0,S\\n', '1,1,0,1,1,1,1\\n', '1,1,E,1,1,1,1\\n']\n",
            "---------------------\n",
            "['1', '1', '1', '1', '1', '1', '1']\n",
            "['1', '1', '1', '1', '1', '1', '1']\n",
            "['1', '1', '1', '1', '1', '1', '1']\n",
            "['1', '1', '1', '1', '1', '1', '1']\n",
            "['1', '0', '0', '0', '0', '0', 'S']\n",
            "['1', '1', '0', '1', '1', '1', '1']\n",
            "['1', '1', 'E', '1', '1', '1', '1']\n",
            "---------------------\n"
          ],
          "name": "stdout"
        }
      ]
    }
  ]
}
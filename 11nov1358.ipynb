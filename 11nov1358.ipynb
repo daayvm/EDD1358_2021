{
  "nbformat": 4,
  "nbformat_minor": 0,
  "metadata": {
    "colab": {
      "name": "11nov1358.ipynb",
      "provenance": [],
      "authorship_tag": "ABX9TyOdDFpd99VrhTH/bSHAxMS4",
      "include_colab_link": true
    },
    "kernelspec": {
      "name": "python3",
      "display_name": "Python 3"
    }
  },
  "cells": [
    {
      "cell_type": "markdown",
      "metadata": {
        "id": "view-in-github",
        "colab_type": "text"
      },
      "source": [
        "<a href=\"https://colab.research.google.com/github/daayvm/EDD1358_2021/blob/master/11nov1358.ipynb\" target=\"_parent\"><img src=\"https://colab.research.google.com/assets/colab-badge.svg\" alt=\"Open In Colab\"/></a>"
      ]
    },
    {
      "cell_type": "code",
      "metadata": {
        "id": "zpDUDJjANkZe",
        "outputId": "17f517f6-6555-435e-922c-2985e807be9a",
        "colab": {
          "base_uri": "https://localhost:8080/"
        }
      },
      "source": [
        "class Nodo:\n",
        "    def __init__( self , dato ):\n",
        "        self.__dato = dato\n",
        "        self.__siguiente = None\n",
        "\n",
        "    def get_dato( self ):\n",
        "        return self.__dato\n",
        "\n",
        "    def set_dato( self , d ):\n",
        "        self.__dato = d\n",
        "\n",
        "    def get_siguiente( self ):\n",
        "        return self.__siguiente\n",
        "\n",
        "    def set_siguiente( self , d ):\n",
        "        self.__siguiente = d\n",
        "\n",
        "    def show( self ):\n",
        "        curr_node = self # Head\n",
        "        print(\" Inicio de la estructura ligada:\")\n",
        "        print(\"|\" + str(curr_node.get_dato()) + \"| -->\" , end =\"\" )\n",
        "        while( curr_node.get_siguiente() != None ):\n",
        "            curr_node = curr_node.get_siguiente()\n",
        "            print(\"|\" + str(curr_node.get_dato() ) + \"| -->\" , end =\"\" )\n",
        "        print(\"\\nFin\")\n",
        "\n",
        "# Ejemplo 1\n",
        "a = Nodo( 10 )\n",
        "a.show()\n",
        "\n",
        "#Ejemplo 2\n",
        "a.set_siguiente(Nodo(20))\n",
        "a.show()\n",
        "\n",
        "#Ejemplo 3\n",
        "a.get_siguiente().set_siguiente(Nodo(30))\n",
        "a.show()\n",
        "\n",
        "#Ejemplo 4\n",
        "a.get_siguiente().get_siguiente().set_siguiente(Nodo(40))\n",
        "a.show()\n",
        "\n",
        "#Ejemplo 5\n",
        "a.get_siguiente().get_siguiente().get_siguiente().set_siguiente(Nodo(50))\n",
        "a.show()\n",
        "\n",
        "#Ejemplo 6 cambio de valor nodo 1\n",
        "#Para sacar el nodo 10 cambiarlo por 12\n",
        "a.set_dato(12)\n",
        "a.show()\n",
        "\n",
        "#Ejemplo 7\n",
        "\n",
        "a.get_siguiente().get_siguiente().get_siguiente().set_dato(45)\n",
        "a.show()\n",
        "\n",
        "#Ejemplo 8\n",
        "#agrwgar 60 y modificar 20 por 25\n",
        "a.get_siguiente().get_siguiente().get_siguiente().get_siguiente().set_siguiente(Nodo(60))\n",
        "a.get_siguiente().set_dato(25)\n",
        "a.show()"
      ],
      "execution_count": 19,
      "outputs": [
        {
          "output_type": "stream",
          "text": [
            " Inicio de la estructura ligada:\n",
            "|10| -->\n",
            "Fin\n",
            " Inicio de la estructura ligada:\n",
            "|10| -->|20| -->\n",
            "Fin\n",
            " Inicio de la estructura ligada:\n",
            "|10| -->|20| -->|30| -->\n",
            "Fin\n",
            " Inicio de la estructura ligada:\n",
            "|10| -->|20| -->|30| -->|40| -->\n",
            "Fin\n",
            " Inicio de la estructura ligada:\n",
            "|10| -->|20| -->|30| -->|40| -->|50| -->\n",
            "Fin\n",
            " Inicio de la estructura ligada:\n",
            "|12| -->|20| -->|30| -->|40| -->|50| -->\n",
            "Fin\n",
            " Inicio de la estructura ligada:\n",
            "|12| -->|20| -->|30| -->|45| -->|50| -->\n",
            "Fin\n",
            " Inicio de la estructura ligada:\n",
            "|12| -->|25| -->|30| -->|45| -->|50| -->|60| -->\n",
            "Fin\n"
          ],
          "name": "stdout"
        }
      ]
    },
    {
      "cell_type": "code",
      "metadata": {
        "id": "qrvLYNiHOIAt",
        "outputId": "ee3ebb36-0729-4c4b-de52-aea38d526e04",
        "colab": {
          "base_uri": "https://localhost:8080/"
        }
      },
      "source": [
        "class Nodo:\n",
        "    def __init__( self , dato ):\n",
        "        self.dato = dato\n",
        "        self.siguiente = None\n",
        "\n",
        "#Ejemplo 1\n",
        "a = Nodo(10)\n",
        "print(a.dato)\n",
        "print(a.siguiente)    \n",
        "\n",
        "#Ejemplo 2\n",
        "a.siguiente = Nodo (20)\n",
        "#Ejemplo 3\n",
        "a.siguiente.siguiente=Nodo(30)\n",
        "#E$\n",
        "a.siguiente.siguiente.siguiente=Nodo(40)\n",
        "#E5\n",
        "a.siguiente.siguiente.siguiente.siguiente=Nodo(50)\n",
        "print(\"------\")\n",
        "\n",
        "#Recorrido transversal\n",
        "curr_node = a\n",
        "print(curr_node.dato , \"-->\" , end=\"\")\n",
        "while( curr_node.siguiente != None ):\n",
        "    curr_node = curr_node.siguiente\n",
        "    print(curr_node.dato, \"-->\" , end=\"\")\n",
        "print(\"\")\n",
        "\n",
        "\n",
        "#E6 cambiar  40 po 45\n",
        "a.siguiente.siguiente.siguiente.dato = 45\n",
        "#E& Cambiar 30 por 35\n",
        "a.siguiente.siguiente.dato= 35\n",
        "print(\"------\")\n",
        "#Desaparecer, = con esto nos saltamos un nodo\n",
        "a.siguiente.siguiente = a.siguiente.siguiente.siguiente\n",
        "a.siguiente = a.siguiente.siguiente.siguiente\n",
        "a = a.siguiente\n",
        "\n",
        "\n",
        "#Recorrido transversal\n",
        "curr_node = a\n",
        "print(curr_node.dato , \"-->\" , end=\"\")\n",
        "while( curr_node.siguiente != None ):\n",
        "    curr_node = curr_node.siguiente\n",
        "    print(curr_node.dato, \"-->\" , end=\"\")\n",
        "print(\"\")\n",
        "\n"
      ],
      "execution_count": 41,
      "outputs": [
        {
          "output_type": "stream",
          "text": [
            "10\n",
            "None\n",
            "------\n",
            "10 -->20 -->30 -->40 -->50 -->\n",
            "------\n",
            "50 -->\n"
          ],
          "name": "stdout"
        }
      ]
    }
  ]
}
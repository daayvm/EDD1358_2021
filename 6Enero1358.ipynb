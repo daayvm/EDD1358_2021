{
  "nbformat": 4,
  "nbformat_minor": 0,
  "metadata": {
    "colab": {
      "name": "6Enero1358.ipynb",
      "provenance": [],
      "authorship_tag": "ABX9TyO0mFKWK+hBl3Phb14Lqnq7",
      "include_colab_link": true
    },
    "kernelspec": {
      "name": "python3",
      "display_name": "Python 3"
    }
  },
  "cells": [
    {
      "cell_type": "markdown",
      "metadata": {
        "id": "view-in-github",
        "colab_type": "text"
      },
      "source": [
        "<a href=\"https://colab.research.google.com/github/daayvm/EDD1358_2021/blob/master/6Enero1358.ipynb\" target=\"_parent\"><img src=\"https://colab.research.google.com/assets/colab-badge.svg\" alt=\"Open In Colab\"/></a>"
      ]
    },
    {
      "cell_type": "markdown",
      "metadata": {
        "id": "uzuO_I4senrl"
      },
      "source": [
        "##COLA Prioridad\r\n",
        "- Cola es uns estructura de datos lineal o de dos dimensiones\r\n",
        "\r\n",
        "- Se agregan por un extremo asignando prioridad\r\n"
      ]
    },
    {
      "cell_type": "code",
      "metadata": {
        "id": "50NPODXtd4cy"
      },
      "source": [
        "class Queue:\r\n",
        "  def __init__ (self):\r\n",
        "    self.__dato = list()\r\n",
        "\r\n",
        "  def is_empty(self):\r\n",
        "    return len(self.__dato) == 0\r\n",
        "  \r\n",
        "  def length (self):\r\n",
        "    return len(self.__dato)\r\n",
        "\r\n",
        "  def enqueue (self ,  item):\r\n",
        "    self.__dato.append(item)\r\n",
        "  \r\n",
        "  def desqueue (self):\r\n",
        "    if not self.is_empty():\r\n",
        "      self.__dato.pop(0)\r\n",
        "    else:\r\n",
        "      return None\r\n",
        "  \r\n",
        "  def to_string(self):\r\n",
        "    for elem in self.__dato:\r\n",
        "      print(f\" | { elem } \" , end = \"\")\r\n",
        "    print(\"|\")\r\n"
      ],
      "execution_count": 2,
      "outputs": []
    },
    {
      "cell_type": "code",
      "metadata": {
        "id": "O9kNrRRRpaS0"
      },
      "source": [
        "class BoundedPriorityQueue:\r\n",
        "  def __init__(self, niveles):\r\n",
        "    self.__dato = [ Queue() for x in range (niveles)]\r\n",
        "    self.__size = 0\r\n",
        "  \r\n",
        "  def is_empty(self):\r\n",
        "    return self.__size ==0\r\n",
        "  \r\n",
        "  def length(self):\r\n",
        "    return self.__size\r\n",
        "  \r\n",
        "  def enqueue (self, prioridad, elem):\r\n",
        "    self.__dato[prioridad].enqueue(elem)"
      ],
      "execution_count": 5,
      "outputs": []
    }
  ]
}
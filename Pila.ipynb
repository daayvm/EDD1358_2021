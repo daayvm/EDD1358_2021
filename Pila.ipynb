{
  "nbformat": 4,
  "nbformat_minor": 0,
  "metadata": {
    "colab": {
      "name": "Pila.ipynb",
      "provenance": [],
      "include_colab_link": true
    },
    "kernelspec": {
      "name": "python3",
      "display_name": "Python 3"
    }
  },
  "cells": [
    {
      "cell_type": "markdown",
      "metadata": {
        "id": "view-in-github",
        "colab_type": "text"
      },
      "source": [
        "<a href=\"https://colab.research.google.com/github/daayvm/EDD1358_2021/blob/master/Pila.ipynb\" target=\"_parent\"><img src=\"https://colab.research.google.com/assets/colab-badge.svg\" alt=\"Open In Colab\"/></a>"
      ]
    },
    {
      "cell_type": "code",
      "metadata": {
        "id": "QLQom05C7rCo"
      },
      "source": [
        "class Stack:\n",
        "  def __init__(self):\n",
        "    self.__dato = []\n",
        "    self.__size = 0\n",
        "  \n",
        "  def is_empty(self):\n",
        "    return self.__size == 0\n",
        "  \n",
        "  def pop(self):\n",
        "    self.__size -= 1\n",
        "    return self.__dato.pop()\n",
        "  \n",
        "  def peak(self): #elemento tope de abajo\n",
        "    return self.__dato[-1]\n",
        "  \n",
        "  def push(self, value ):\n",
        "    self.__dato.append(value)\n",
        "    self.__size += 1\n",
        "  \n",
        "  def to_string(self):\n",
        "    print(\"---------\")\n",
        "    for dat in self.__dato[::-1]:\n",
        "      print(f\" | {dat} |\")\n",
        "      print(\"--------\")\n"
      ],
      "execution_count": null,
      "outputs": []
    },
    {
      "cell_type": "code",
      "metadata": {
        "colab": {
          "base_uri": "https://localhost:8080/"
        },
        "id": "LuzRYkboAC6m",
        "outputId": "100fe7b7-0781-420a-ddc4-2f3d25a78d03"
      },
      "source": [
        "pila = Stack()\n",
        "#Agregamos nuestros valores\n",
        "pila.push(34)\n",
        "pila.push(10)\n",
        "pila.push(45)\n",
        "pila.push(4)\n",
        "pila.push(33)\n",
        "pila.to_string()\n",
        "print(\"******\")\n",
        "#Eliminamos un valor\n",
        "valor = pila.pop()\n",
        "print(valor * 2 )\n",
        "pila.to_string()\n",
        "print(\"******\")\n",
        "valor = pila.peak()\n",
        "print(valor * 2 )\n",
        "pila.to_string()"
      ],
      "execution_count": null,
      "outputs": [
        {
          "output_type": "stream",
          "text": [
            "---------\n",
            " | 33 |\n",
            "--------\n",
            " | 4 |\n",
            "--------\n",
            " | 45 |\n",
            "--------\n",
            " | 10 |\n",
            "--------\n",
            " | 34 |\n",
            "--------\n",
            "******\n",
            "66\n",
            "---------\n",
            " | 4 |\n",
            "--------\n",
            " | 45 |\n",
            "--------\n",
            " | 10 |\n",
            "--------\n",
            " | 34 |\n",
            "--------\n",
            "******\n",
            "8\n",
            "---------\n",
            " | 4 |\n",
            "--------\n",
            " | 45 |\n",
            "--------\n",
            " | 10 |\n",
            "--------\n",
            " | 34 |\n",
            "--------\n"
          ],
          "name": "stdout"
        }
      ]
    },
    {
      "cell_type": "code",
      "metadata": {
        "colab": {
          "base_uri": "https://localhost:8080/"
        },
        "id": "GPKiHUqFB-6Q",
        "outputId": "7973c5b6-409b-43cd-be09-52c8b8011c27"
      },
      "source": [
        "#Tarea\n",
        "#Validacion de parentesis balaceados '('  '{'  '['\n",
        "cadena=\"()()())\"\n",
        "pilan = Stack()\n",
        "pilan.push(\"#\") \n",
        "for elem in cadena :\n",
        "  if elem == '(' :\n",
        "    pilan.push(\"*\")\n",
        "  elif elem == ')':\n",
        "    pilan.pop()\n",
        "  else: \n",
        "    pass\n",
        "\n",
        "#Primero checo si la pila quedo vacia\n",
        "if pilan.is_empty():\n",
        "  print('Cadena no valida')\n",
        "\n",
        "#Si no esta vacia ahora verifico que el elemento tope sea #\n",
        "else: \n",
        "  if pilan.peak() == '#':\n",
        "    print('Cadena valida')\n",
        "  else:\n",
        "    print('Cadena no valida')"
      ],
      "execution_count": 25,
      "outputs": [
        {
          "output_type": "stream",
          "text": [
            "Cadena no valida\n"
          ],
          "name": "stdout"
        }
      ]
    }
  ]
}
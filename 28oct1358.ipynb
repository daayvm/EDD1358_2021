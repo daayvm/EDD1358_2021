{
  "nbformat": 4,
  "nbformat_minor": 0,
  "metadata": {
    "colab": {
      "name": "28oct1358.ipynb",
      "provenance": [],
      "authorship_tag": "ABX9TyMjOL1hk9jF9X1bJemMOGX2",
      "include_colab_link": true
    },
    "kernelspec": {
      "name": "python3",
      "display_name": "Python 3"
    }
  },
  "cells": [
    {
      "cell_type": "markdown",
      "metadata": {
        "id": "view-in-github",
        "colab_type": "text"
      },
      "source": [
        "<a href=\"https://colab.research.google.com/github/daayvm/EDD1358_2021/blob/master/28oct1358.ipynb\" target=\"_parent\"><img src=\"https://colab.research.google.com/assets/colab-badge.svg\" alt=\"Open In Colab\"/></a>"
      ]
    },
    {
      "cell_type": "code",
      "metadata": {
        "id": "paVyBuqWD6r8",
        "outputId": "c6729be4-e1ff-4ba4-973b-d77fd55613f6",
        "colab": {
          "base_uri": "https://localhost:8080/"
        }
      },
      "source": [
        "#Array\n",
        "class Array:\n",
        "  def __init__(self, tam):\n",
        "    self.__datos = [0 for x in range(tam)] \n",
        "\n",
        "  def get_item( self,index ):\n",
        "      dato = 0 \n",
        "      if index >= 0 and index < len(self.__datos):\n",
        "          dato = self.__datos[index]\n",
        "      else:\n",
        "          print(\"Error\")\n",
        "      return dato\n",
        "    \n",
        "  def set_item ( self , dato, index):\n",
        "      if index >= 0 and index < len(self.__datos):\n",
        "        self.__datos[index] = dato\n",
        "      else:\n",
        "          print(\"ERROR\")\n",
        "\n",
        "\n",
        "  def get_length(self):\n",
        "      return len(self.__datos)\n",
        "      \n",
        "  def clear( self, dato):\n",
        "\t\t  self.__datos = [dato for x in range(self.__tam)]\n",
        "\n",
        "  def getIterator( self ):\n",
        "        return _getIterator( self.__datos )\n",
        "\n",
        "      \n",
        "class _getIterator:\n",
        "    def __init__( self , arreglo ):\n",
        "        self.__arreglo = arreglo\n",
        "        self.__indice_actual = 0\n",
        "\n",
        "    def __iter__( self ):\n",
        "        return self\n",
        "\n",
        "    def __next__( self  ):\n",
        "        if self.__indice_actual < len(self.__arreglo):\n",
        "            dato = self.__arreglo[self.__indice_actual]\n",
        "            self.__indice_actual +=1\n",
        "            return dato\n",
        "        else:\n",
        "            raise StopIteration\n",
        "\n",
        "mi_arreglo = Array(10)\n",
        "print(mi_arreglo.get_item(2))\n",
        "mi_arreglo.set_item(2345.5 , 3)\n",
        "print(mi_arreglo.get_item(3))\n",
        "\n",
        "for x in mi_arreglo.getIterator():\n",
        "  print(x)"
      ],
      "execution_count": 58,
      "outputs": [
        {
          "output_type": "stream",
          "text": [
            "0\n",
            "2345.5\n",
            "0\n",
            "0\n",
            "0\n",
            "2345.5\n",
            "0\n",
            "0\n",
            "0\n",
            "0\n",
            "0\n",
            "0\n"
          ],
          "name": "stdout"
        }
      ]
    },
    {
      "cell_type": "code",
      "metadata": {
        "id": "3wWSw9LwG9jl",
        "outputId": "6220db23-b269-4c1d-89ec-33dc51de644f",
        "colab": {
          "base_uri": "https://localhost:8080/"
        }
      },
      "source": [
        "#Generador\n",
        "basura = [\"manzana\", \"pera\"]\n",
        "datos = [ x.upper() for x in basura ]\n",
        "#El for solo controla el numero de 00\n",
        "print (datos)"
      ],
      "execution_count": 29,
      "outputs": [
        {
          "output_type": "stream",
          "text": [
            "['MANZANA', 'PERA']\n"
          ],
          "name": "stdout"
        }
      ]
    },
    {
      "cell_type": "markdown",
      "metadata": {
        "id": "4P3fBdjFIYKx"
      },
      "source": [
        "Lista 2D\n",
        "\n",
        "[ [0,0,0],\n",
        "  [0,0,0],\n",
        "  [0,0,0], ]"
      ]
    },
    {
      "cell_type": "code",
      "metadata": {
        "id": "mg203Tq0IsX2",
        "outputId": "e77b0fc5-cfce-4018-876b-48511ebc2734",
        "colab": {
          "base_uri": "https://localhost:8080/"
        }
      },
      "source": [
        "#For anidado\n",
        "ren = 4\n",
        "col = 6\n",
        "dosde = [ [0 for x in range(col)] for x in range (ren)]\n",
        "print(dosde)"
      ],
      "execution_count": 35,
      "outputs": [
        {
          "output_type": "stream",
          "text": [
            "[[0, 0, 0, 0, 0, 0], [0, 0, 0, 0, 0, 0], [0, 0, 0, 0, 0, 0], [0, 0, 0, 0, 0, 0]]\n"
          ],
          "name": "stdout"
        }
      ]
    }
  ]
}
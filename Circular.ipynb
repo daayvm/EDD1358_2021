{
  "nbformat": 4,
  "nbformat_minor": 0,
  "metadata": {
    "colab": {
      "name": "Circular.ipynb",
      "provenance": [],
      "include_colab_link": true
    },
    "kernelspec": {
      "display_name": "Python 3",
      "name": "python3"
    }
  },
  "cells": [
    {
      "cell_type": "markdown",
      "metadata": {
        "id": "view-in-github",
        "colab_type": "text"
      },
      "source": [
        "<a href=\"https://colab.research.google.com/github/daayvm/EDD1358_2021/blob/master/Circular.ipynb\" target=\"_parent\"><img src=\"https://colab.research.google.com/assets/colab-badge.svg\" alt=\"Open In Colab\"/></a>"
      ]
    },
    {
      "cell_type": "code",
      "metadata": {
        "id": "W78YcHHuraiQ"
      },
      "source": [
        "#Lista circular siemplmente ligada\n",
        "\n",
        "class Nodo:\n",
        "  def __init__( self , value , next = None):\n",
        "    self.dato = value\n",
        "    self.next = next\n",
        "\n",
        "class CircularList:\n",
        "  def __init__ (self):\n",
        "    self.__ref = None\n",
        "    self.__size = 0 \n",
        "\n",
        "  def is_empty(self): \n",
        "    return self.__size == 0\n",
        "  \n",
        "  def trans(self):\n",
        "    curr_node = self.__ref.next\n",
        "    while curr_node.dato != self.__ref.dato:\n",
        "      print( curr_node.dato , \"-->\" , end=\"\" )\n",
        "      curr_node = curr_node.next\n",
        "    print( curr_node.dato, end=\"\" )\n",
        "    \n",
        "    print(\"\")\n",
        "\n",
        "  def insert(self, value):\n",
        "    if self.__size == 0:\n",
        "      self.__ref = Nodo(value)\n",
        "    elif self.__size == 1:\n",
        "      if value < self.__ref.dato:\n",
        "        nuevo = Nodo(value, self.__ref)\n",
        "        self.__ref.next = nuevo\n",
        "      else:\n",
        "        nuevo = Nodo(value, self.__ref)\n",
        "        self.__ref.next = nuevo\n",
        "        self.__ref = nuevo\n",
        "    else:\n",
        "      if value > self.__ref.dato:\n",
        "        nuevo = Nodo(value, self.__ref.next)\n",
        "        self.__ref.next = nuevo\n",
        "        self.__ref = nuevo\n",
        "      elif value < self.__ref.next.dato:\n",
        "        nuevo = Nodo(value, self.__ref.next)\n",
        "        self.__ref.next = nuevo\n",
        "      else:\n",
        "        curr_node = self.__ref.next\n",
        "        while curr_node.dato < value:\n",
        "          anterior = curr_node\n",
        "          curr_node = curr_node.next\n",
        "        nuevo = Nodo(value, curr_node)\n",
        "        anterior.next = nuevo\n",
        "    self.__size += 1\n",
        "  \n",
        "  \n",
        "  def remove(self, value):\n",
        "      curr_node = self.__ref\n",
        "      node_aux = self.__ref\n",
        "      while (node_aux.dato != value):\n",
        "        node_aux = node_aux.next\n",
        "\n",
        "      while (curr_node.next.dato != node_aux.dato):\n",
        "        curr_node = curr_node.next\n",
        "\n",
        "      curr_node.next = curr_node.next.next\n",
        "  \n",
        "  def search(self, value):\n",
        "      curr_node = self.__ref.next\n",
        "      encontrado = None\n",
        "      while(curr_node.dato != value):\n",
        "        curr_node = curr_node.next\n",
        "      if(curr_node.dato == value):\n",
        "        encontrado = True\n",
        "      else:\n",
        "        encontrado = False\n",
        "      \n",
        "      return encontrado\n",
        "\n",
        "      "
      ],
      "execution_count": 22,
      "outputs": []
    },
    {
      "cell_type": "code",
      "metadata": {
        "colab": {
          "base_uri": "https://localhost:8080/"
        },
        "id": "WPDFE6IWrdGW",
        "outputId": "f7da45a0-5699-4147-eee1-fe0a42cf3f82"
      },
      "source": [
        "cd = CircularList()\n",
        "cd.insert(10)\n",
        "cd.insert(15)\n",
        "cd.insert(6)\n",
        "cd.insert(20)\n",
        "cd.insert(5)\n",
        "cd.insert(40)\n",
        "cd.trans()\n",
        "print(\"Existe 10?:\" , cd.search(10))\n",
        "cd.remove(15)\n",
        "cd.trans()"
      ],
      "execution_count": 29,
      "outputs": [
        {
          "output_type": "stream",
          "text": [
            "5 -->6 -->10 -->15 -->20 -->40\n",
            "Existe 10?: True\n",
            "5 -->6 -->10 -->20 -->40\n"
          ],
          "name": "stdout"
        }
      ]
    }
  ]
}
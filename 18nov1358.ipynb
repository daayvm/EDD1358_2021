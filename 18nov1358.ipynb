{
  "nbformat": 4,
  "nbformat_minor": 0,
  "metadata": {
    "colab": {
      "name": "18nov1358.ipynb",
      "provenance": [],
      "authorship_tag": "ABX9TyNOMq9DaTlDGCfr24nsrTeu",
      "include_colab_link": true
    },
    "kernelspec": {
      "name": "python3",
      "display_name": "Python 3"
    }
  },
  "cells": [
    {
      "cell_type": "markdown",
      "metadata": {
        "id": "view-in-github",
        "colab_type": "text"
      },
      "source": [
        "<a href=\"https://colab.research.google.com/github/daayvm/EDD1358_2021/blob/master/18nov1358.ipynb\" target=\"_parent\"><img src=\"https://colab.research.google.com/assets/colab-badge.svg\" alt=\"Open In Colab\"/></a>"
      ]
    },
    {
      "cell_type": "code",
      "metadata": {
        "colab": {
          "base_uri": "https://localhost:8080/"
        },
        "id": "RXEniLoyTg0o",
        "outputId": "e3fb91ca-67ab-4dea-d8af-5bb2c7cf50ea"
      },
      "source": [
        "#Codigo clase 18 noviembre\n",
        "class Nodo:\n",
        "  def __init__( self , dato , siguiente=None):\n",
        "    self.dato = dato\n",
        "    self.siguiente = siguiente\n",
        "\n",
        "head = Nodo ( 10 , Nodo (20 , Nodo (30 , Nodo (40 , Nodo(50) ) ) ) )\n",
        "\n",
        "#Recorrido tranversal\n",
        "curr_node = head\n",
        "print(curr_node.dato , \"-->\" , end=\"\" )\n",
        "while ( curr_node.siguiente != None ):\n",
        "    curr_node = curr_node.siguiente\n",
        "    print(curr_node.dato , \"-->\" , end=\"\" )\n",
        "print(\"\")\n",
        "\n",
        "#Insertar el nodo 35 depsues de 30\n",
        "anterior = head.siguiente.siguiente\n",
        "print(anterior.dato)\n",
        "nuevo = Nodo(35)\n",
        "nuevo.siguiente = anterior.siguiente\n",
        "print(nuevo.siguiente.dato)\n",
        "anterior.siguiente = nuevo\n",
        "\n",
        "#Recorrido tranversal\n",
        "curr_node = head\n",
        "print(curr_node.dato , \"-->\" , end=\"\" )\n",
        "while ( curr_node.siguiente != None ):\n",
        "    curr_node = curr_node.siguiente\n",
        "    print(curr_node.dato , \"-->\" , end=\"\" )\n",
        "print(\"\")\n",
        "\n",
        "#Eliminar nodo 20 \n",
        "head.siguiente = head.siguiente.siguiente\n",
        "\n",
        "#Recorrido tranversal\n",
        "curr_node = head\n",
        "print(curr_node.dato , \"-->\" , end=\"\" )\n",
        "while ( curr_node.siguiente != None ):\n",
        "    curr_node = curr_node.siguiente\n",
        "    print(curr_node.dato , \"-->\" , end=\"\" )\n",
        "print(\"\")"
      ],
      "execution_count": 3,
      "outputs": [
        {
          "output_type": "stream",
          "text": [
            "10 -->20 -->30 -->40 -->50 -->\n",
            "30\n",
            "40\n",
            "10 -->20 -->30 -->35 -->40 -->50 -->\n",
            "10 -->30 -->35 -->40 -->50 -->\n"
          ],
          "name": "stdout"
        }
      ]
    },
    {
      "cell_type": "code",
      "metadata": {
        "id": "FQBjHURBVcHy"
      },
      "source": [
        "class Nodo:\n",
        "  def __init__( self , dato , siguiente=None):\n",
        "    self.dato = dato\n",
        "    self.siguiente = siguiente\n",
        "\n",
        "class LinkedList:\n",
        "    def __init__ (self):\n",
        "      self.__head = None\n",
        "\n",
        "    def is_empty(self): #preguntamos si la head apunta a algo vacio\n",
        "      return self.__head = None?\n",
        "      \n"
      ],
      "execution_count": 6,
      "outputs": []
    }
  ]
}
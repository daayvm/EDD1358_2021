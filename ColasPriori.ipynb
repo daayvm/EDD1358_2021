{
  "nbformat": 4,
  "nbformat_minor": 0,
  "metadata": {
    "colab": {
      "name": "ColasPriori.ipynb",
      "provenance": [],
      "include_colab_link": true
    },
    "kernelspec": {
      "name": "python3",
      "display_name": "Python 3"
    }
  },
  "cells": [
    {
      "cell_type": "markdown",
      "metadata": {
        "id": "view-in-github",
        "colab_type": "text"
      },
      "source": [
        "<a href=\"https://colab.research.google.com/github/daayvm/EDD1358_2021/blob/master/ColasPriori.ipynb\" target=\"_parent\"><img src=\"https://colab.research.google.com/assets/colab-badge.svg\" alt=\"Open In Colab\"/></a>"
      ]
    },
    {
      "cell_type": "code",
      "metadata": {
        "id": "x0D3MCCyZU6n"
      },
      "source": [
        "class Queue:\r\n",
        "  def __init__ (self):\r\n",
        "    self.__dato = list()\r\n",
        "\r\n",
        "  def is_empty(self):\r\n",
        "    return len(self.__dato) == 0\r\n",
        "  \r\n",
        "  def length (self):\r\n",
        "    return len(self.__dato)\r\n",
        "\r\n",
        "  def enqueue (self ,  item):\r\n",
        "    self.__dato.append(item)\r\n",
        "  \r\n",
        "  def desqueue (self):\r\n",
        "    if not self.is_empty():\r\n",
        "      self.__dato.pop(0)\r\n",
        "    else:\r\n",
        "      return None\r\n",
        "  \r\n",
        "  def to_string(self):\r\n",
        "    for elem in self.__dato:\r\n",
        "      print(f\" | { elem } \" , end = \"\")\r\n",
        "    print(\"|\")\r\n"
      ],
      "execution_count": 2,
      "outputs": []
    },
    {
      "cell_type": "code",
      "metadata": {
        "id": "8FaWquLjcCzd"
      },
      "source": [
        "class PriorityQueue:\r\n",
        "\r\n",
        "  def __init__(self):\r\n",
        "    self.__dato = []\r\n",
        "    self.__size = 0\r\n",
        "  \r\n",
        "  def is_empty(self):\r\n",
        "    return len(self.__dato) == 0\r\n",
        "\r\n",
        "  def length(self):\r\n",
        "    return len(self.__dato) \r\n",
        "\r\n",
        "  def enqueue(self, prioridad, elemento): #encolamos\r\n",
        "    self.__dato.append( [prioridad, elemento])\r\n",
        "    self.__size += 1\r\n",
        "\r\n",
        "  def desqueue (self):\r\n",
        "    if not self.is_empty():\r\n",
        "      self.__dato.pop(0)\r\n",
        "    else:\r\n",
        "      return None\r\n",
        "\r\n",
        "  def to_string(self):\r\n",
        "    for elem in self.__dato:\r\n",
        "      print(f\" | {  elem } \" , end = \"\")\r\n",
        "    print(\"|\")\r\n",
        "  \r\n",
        "  "
      ],
      "execution_count": 3,
      "outputs": []
    },
    {
      "cell_type": "code",
      "metadata": {
        "colab": {
          "base_uri": "https://localhost:8080/"
        },
        "id": "qWOdULpVAr6O",
        "outputId": "7523f0c1-49a8-4df2-cbbf-2d7a0728a354"
      },
      "source": [
        "\r\n",
        "colas = Queue()\r\n",
        "colas.enqueue(5)\r\n",
        "colas.to_string()\r\n",
        "\r\n",
        "colaspriori = PriorityQueue()\r\n",
        "colaspriori.enqueue(1,5)\r\n",
        "colaspriori.desqueue()\r\n",
        "colaspriori.to_string()"
      ],
      "execution_count": 4,
      "outputs": [
        {
          "output_type": "stream",
          "text": [
            " | 5 |\n",
            "|\n"
          ],
          "name": "stdout"
        }
      ]
    }
  ]
}
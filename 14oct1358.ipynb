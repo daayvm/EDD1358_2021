{
  "nbformat": 4,
  "nbformat_minor": 0,
  "metadata": {
    "colab": {
      "name": "14oct1358.ipynb",
      "provenance": [],
      "authorship_tag": "ABX9TyOsHITLVs5vSUB0d3r+/Yg7",
      "include_colab_link": true
    },
    "kernelspec": {
      "name": "python3",
      "display_name": "Python 3"
    }
  },
  "cells": [
    {
      "cell_type": "markdown",
      "metadata": {
        "id": "view-in-github",
        "colab_type": "text"
      },
      "source": [
        "<a href=\"https://colab.research.google.com/github/daayvm/EDD1358_2021/blob/master/14oct1358.ipynb\" target=\"_parent\"><img src=\"https://colab.research.google.com/assets/colab-badge.svg\" alt=\"Open In Colab\"/></a>"
      ]
    },
    {
      "cell_type": "code",
      "metadata": {
        "id": "fSh8gMjlpUAi",
        "outputId": "f8220278-33a7-40a7-88d9-f905cdc45bf0",
        "colab": {
          "base_uri": "https://localhost:8080/",
          "height": 68
        }
      },
      "source": [
        "def calcular (a,b,c):\n",
        "    x = a + (b/c )\n",
        "    return x\n",
        "\n",
        "print(calcular(5,3,5))\n",
        "print(calcular (a=3,c=3,b=3))\n",
        "\n",
        "def calcu (a=10,b =20, c=5 ):\n",
        "    h = a + (b/c )\n",
        "    return h\n",
        "print(calcu(2,1,4))"
      ],
      "execution_count": 10,
      "outputs": [
        {
          "output_type": "stream",
          "text": [
            "5.6\n",
            "4.0\n",
            "2.25\n"
          ],
          "name": "stdout"
        }
      ]
    },
    {
      "cell_type": "markdown",
      "metadata": {
        "id": "c9AR4XKarwrq"
      },
      "source": [
        "## Argumentos a funciones por tupla *\n",
        "* Se envian los argumentos en conjunto d elementos dentro de la tupla"
      ]
    },
    {
      "cell_type": "code",
      "metadata": {
        "id": "GhamKTIKsEwC",
        "outputId": "d72bf042-7098-4f27-d424-e61a41d95004",
        "colab": {
          "base_uri": "https://localhost:8080/",
          "height": 34
        }
      },
      "source": [
        "def cal (*elem):\n",
        "    x = elem[0] + (elem[1] / elem[2])\n",
        "    return x\n",
        "##Se pueden guardar pero no los necesita para el calculo\n",
        "print(cal(5,5,5,5,5,5))"
      ],
      "execution_count": 15,
      "outputs": [
        {
          "output_type": "stream",
          "text": [
            "6.0\n"
          ],
          "name": "stdout"
        }
      ]
    },
    {
      "cell_type": "markdown",
      "metadata": {
        "id": "LHNMlJC9s1HP"
      },
      "source": [
        "##Argumentos con diccionario **"
      ]
    },
    {
      "cell_type": "code",
      "metadata": {
        "id": "QEYZfEeas4Wm",
        "outputId": "50197cd0-afcb-4042-8d13-c006d0bcc512",
        "colab": {
          "base_uri": "https://localhost:8080/",
          "height": 51
        }
      },
      "source": [
        "def calculo(**ele):\n",
        "    print(ele)\n",
        "    x = ele['a'] + (ele['b'] / ele['c']   )\n",
        "    return x\n",
        "#Solo vemos los datos \n",
        "print(calculo(a = 5, b = 9, c = 3))"
      ],
      "execution_count": 17,
      "outputs": [
        {
          "output_type": "stream",
          "text": [
            "{'a': 5, 'b': 9, 'c': 3}\n",
            "8.0\n"
          ],
          "name": "stdout"
        }
      ]
    },
    {
      "cell_type": "markdown",
      "metadata": {
        "id": "n-wR0Irb2jrv"
      },
      "source": [
        "##Archivos\n",
        "* Abrirlos\n",
        "    - str con la ruta del archivo\n",
        "    - Dos caracteres :\n",
        "    1. Modo de aperura (r,w)\n",
        "    2. formato (texto/binario)\n",
        "* Leer\n",
        "* Modificarlos"
      ]
    },
    {
      "cell_type": "code",
      "metadata": {
        "id": "TQHjQ9qT3L5L"
      },
      "source": [
        "#Abre archivo\n",
        "archivo = open('eje.txt','wt')\n",
        "##Lo abrimos en escritura de texto\n",
        "archivo.write(\"Hola mundo de archivos\")\n",
        "archivo.close()"
      ],
      "execution_count": 23,
      "outputs": []
    },
    {
      "cell_type": "code",
      "metadata": {
        "id": "FmKNa7uW4nRn"
      },
      "source": [
        "#Mover el archivo a otro\n",
        "!(cat eje.txt > otra.txt)"
      ],
      "execution_count": 29,
      "outputs": []
    }
  ]
}
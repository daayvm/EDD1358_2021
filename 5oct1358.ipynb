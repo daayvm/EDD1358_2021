{
  "nbformat": 4,
  "nbformat_minor": 0,
  "metadata": {
    "colab": {
      "name": "5oct1358.ipynb",
      "provenance": [],
      "authorship_tag": "ABX9TyMj9+xqk8yxiNw5RHn4CDGq",
      "include_colab_link": true
    },
    "kernelspec": {
      "name": "python3",
      "display_name": "Python 3"
    }
  },
  "cells": [
    {
      "cell_type": "markdown",
      "metadata": {
        "id": "view-in-github",
        "colab_type": "text"
      },
      "source": [
        "<a href=\"https://colab.research.google.com/github/daayvm/EDD1358_2021/blob/master/5oct1358.ipynb\" target=\"_parent\"><img src=\"https://colab.research.google.com/assets/colab-badge.svg\" alt=\"Open In Colab\"/></a>"
      ]
    },
    {
      "cell_type": "markdown",
      "metadata": {
        "id": "KcUHvEbUVPJw"
      },
      "source": [
        "Continuacionde la clase pasada String"
      ]
    },
    {
      "cell_type": "code",
      "metadata": {
        "id": "_6OcHZVlVUra",
        "outputId": "627e85bb-e40c-4937-f619-ba76797c7de8",
        "colab": {
          "base_uri": "https://localhost:8080/",
          "height": 85
        }
      },
      "source": [
        "precio = 13.5\n",
        "cantidad = 2\n",
        "exi = True\n",
        "\n",
        "#Los chetos valen 13.5 y quiero 2 , Hay? = True\n",
        "\n",
        "print (\"Precio de los chetos: $ \" , precio, \"Quiero: \", cantidad , \"Hay?: \", exi)\n",
        "\n",
        "##Froamtat de la clase string\n",
        "\n",
        "print (\"Precio de los chetos es {0} y quiero {1}, hay? {2}\".format(precio,cantidad,exi))\n",
        "#Con las {} podemos cambiar luagres\n",
        "print (\"Precio de los chetos es {2} y quiero {1}, hay? {0}\".format(precio,cantidad,exi))\n",
        "\n",
        "#Operador f\"\"\"\n",
        "print ( f\"Precio de los chetos es {precio} y quiero {cantidad}, hay? {exi}\")\n"
      ],
      "execution_count": 4,
      "outputs": [
        {
          "output_type": "stream",
          "text": [
            "Precio de los chetos: $  13.5 Quiero:  2 Hay?:  True\n",
            "Precio de los chetos es 13.5 y quiero 2, hay? True\n",
            "Precio de los chetos es True y quiero 2, hay? 13.5\n",
            "Precio de los chetos es 13.5 y quiero 2, hay? True\n"
          ],
          "name": "stdout"
        }
      ]
    },
    {
      "cell_type": "markdown",
      "metadata": {
        "id": "kQzJGqHbYTmb"
      },
      "source": [
        "##Listas\n",
        "* Declaramos con [ ]\n",
        "* Selector [ ]\n",
        "* Mutable\n",
        "\n",
        "#Tuplas\n",
        "* Declaramos ( ) \n",
        "* Selector [ ]\n",
        "* No es mutable, asi se quedan pa siempre\n",
        "\n",
        "#Diccionarios\n",
        "* Conjunto de datos en { }: valor\n",
        "* Son mutables\n",
        "* Equivalentes en JSON\n",
        "\n",
        "#Conjuntos\n",
        "* Grupo de elementos con la teoria de conjuntos\n",
        "* Operaciones con ocnjuntos"
      ]
    },
    {
      "cell_type": "code",
      "metadata": {
        "id": "7xiUBSQSYXE-",
        "outputId": "5f90fd15-05ff-456d-d431-7b04a99d2c04",
        "colab": {
          "base_uri": "https://localhost:8080/",
          "height": 442
        }
      },
      "source": [
        "##Lista\n",
        "\n",
        "materias = [\"CYP\", \"POO\",\"EDD\",\"DYADA\", \"IS\"]\n",
        "print (materias)\n",
        "#Selector\n",
        "print (materias[2])\n",
        "#Ultimo elemento\n",
        "print (materias[-1])\n",
        "print (materias[4])\n",
        "#Orden inverso Slicing\n",
        "print(materias[::-1])\n",
        "print (\"-----\")\n",
        "\n",
        "print (\"\\nLista a aprtir de String\")\n",
        "fecha = \" 5 / oct / 2020\"\n",
        "lista_fecha = fecha.split(\"/\") #quitamos elemento \n",
        "print (lista_fecha)\n",
        "\n",
        "print (\"\\nString a aprtir de Lista\")\n",
        "list_hora = (\"3\",\"22\",\"30\") #deben ser string \n",
        "hora = \":\".join(list_hora)\n",
        "print (hora)\n",
        "print (\"----------\")\n",
        "print(materias)\n",
        "print(lista_fecha)\n",
        "print(list_hora)\n",
        "#Mutamos lista materias\n",
        "materias [0] = \"CYP\"\n",
        "print (materias)\n",
        "#Mutamos y agregamos al final\n",
        "materias.append(\"Calidad\")\n",
        "print (materias)\n",
        "#Insertar en un lugar\n",
        "materias.insert(2, \"emprendimiento\")\n",
        "print(materias)\n",
        "#POP\n",
        "#Si no ponemos indice saca el ultimo\n",
        "materia = materias.pop()\n",
        "print(materia)\n",
        "print(materias)\n",
        "#Si ponemos idicne saca el que queremos\n",
        "materia = materias.pop(0)\n",
        "print(materia)\n",
        "print(materias)\n",
        "print(\"-------\")\n",
        "#vaciar lista\n",
        "materias.clear()\n",
        "print(materias)"
      ],
      "execution_count": 31,
      "outputs": [
        {
          "output_type": "stream",
          "text": [
            "['CYP', 'POO', 'EDD', 'DYADA', 'IS']\n",
            "EDD\n",
            "IS\n",
            "IS\n",
            "['IS', 'DYADA', 'EDD', 'POO', 'CYP']\n",
            "-----\n",
            "\n",
            "Lista a aprtir de String\n",
            "[' 5 ', ' oct ', ' 2020']\n",
            "\n",
            "String a aprtir de Lista\n",
            "3:22:30\n",
            "----------\n",
            "['CYP', 'POO', 'EDD', 'DYADA', 'IS']\n",
            "[' 5 ', ' oct ', ' 2020']\n",
            "('3', '22', '30')\n",
            "['CYP', 'POO', 'EDD', 'DYADA', 'IS']\n",
            "['CYP', 'POO', 'EDD', 'DYADA', 'IS', 'Calidad']\n",
            "['CYP', 'POO', 'emprendimiento', 'EDD', 'DYADA', 'IS', 'Calidad']\n",
            "Calidad\n",
            "['CYP', 'POO', 'emprendimiento', 'EDD', 'DYADA', 'IS']\n",
            "CYP\n",
            "['POO', 'emprendimiento', 'EDD', 'DYADA', 'IS']\n",
            "-------\n",
            "[]\n"
          ],
          "name": "stdout"
        }
      ]
    },
    {
      "cell_type": "code",
      "metadata": {
        "id": "RnYyWkEtfyiK",
        "outputId": "b666bb5a-696b-4939-cc9c-5cec44186abd",
        "colab": {
          "base_uri": "https://localhost:8080/",
          "height": 85
        }
      },
      "source": [
        "#Slicing [::]\n",
        "nume = [0,1,2,3,4,5,6,7,8,9,10]\n",
        "print(nume)\n",
        "print( nume [ 4 : 9 : 1] )\n",
        "\n",
        "#sustitur un segmento\n",
        "print(nume)\n",
        "nume[ 4:9:1 ] = [-26,\"Dayra\"]\n",
        "print(nume)\n"
      ],
      "execution_count": 53,
      "outputs": [
        {
          "output_type": "stream",
          "text": [
            "[0, 1, 2, 3, 4, 5, 6, 7, 8, 9, 10]\n",
            "[4, 5, 6, 7, 8]\n",
            "[0, 1, 2, 3, 4, 5, 6, 7, 8, 9, 10]\n",
            "[0, 1, 2, 3, -26, 'Dayra', 9, 10]\n"
          ],
          "name": "stdout"
        }
      ]
    },
    {
      "cell_type": "code",
      "metadata": {
        "id": "ljXXIUVEbl1J",
        "outputId": "a24f6090-0c4b-48b7-b624-797aeca4ae0c",
        "colab": {
          "base_uri": "https://localhost:8080/",
          "height": 51
        }
      },
      "source": [
        "#Listas de dos dimesiones\n",
        "autos = [\"Mazda\", \"Akura\", \"Honda\", \"Ford\"]\n",
        "tele = [\"iphone\", \"Huawei mate 30\", \"Xiaomi s10\", \"Alcatel\"]\n",
        "sisope = [\"Windows\", \"Linux\", \"Android\", \"ios\", \"MacOS\"]\n",
        "\n",
        "listadosde = [autos,tele,sisope]\n",
        "print(listadosde)\n",
        "print(listadosde[1][1])\n",
        "\n"
      ],
      "execution_count": 59,
      "outputs": [
        {
          "output_type": "stream",
          "text": [
            "[['Mazda', 'Akura', 'Honda', 'Ford'], ['iphone', 'Huawei mate 30', 'Xiaomi s10', 'Alcatel'], ['Windows', 'Linux', 'Android', 'ios', 'MacOS']]\n",
            "Huawei mate 30\n"
          ],
          "name": "stdout"
        }
      ]
    }
  ]
}
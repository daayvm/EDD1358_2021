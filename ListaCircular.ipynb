{
  "nbformat": 4,
  "nbformat_minor": 0,
  "metadata": {
    "colab": {
      "name": "ListaCircular.ipynb",
      "provenance": [],
      "collapsed_sections": [],
      "authorship_tag": "ABX9TyPtIxGbA2XG50n04XOLECd8",
      "include_colab_link": true
    },
    "kernelspec": {
      "name": "python3",
      "display_name": "Python 3"
    }
  },
  "cells": [
    {
      "cell_type": "markdown",
      "metadata": {
        "id": "view-in-github",
        "colab_type": "text"
      },
      "source": [
        "<a href=\"https://colab.research.google.com/github/daayvm/EDD1358_2021/blob/master/ListaCircular.ipynb\" target=\"_parent\"><img src=\"https://colab.research.google.com/assets/colab-badge.svg\" alt=\"Open In Colab\"/></a>"
      ]
    },
    {
      "cell_type": "code",
      "metadata": {
        "id": "k8yADwuBd5Oc"
      },
      "source": [
        "#Lista circular siemplmente ligada\n",
        "\n",
        "class Nodo:\n",
        "  def __init__( self , value , next = None):\n",
        "    self.dato = value\n",
        "    self.next = next\n",
        "\n",
        "class CircularList:\n",
        "  def __init__ (self):\n",
        "    self.__ref = None\n",
        "    self.__size = 0 \n",
        "\n",
        "  def is_empty (self): \n",
        "    return self.__size == 0\n",
        "    \n",
        "  def insert(self, value):\n",
        "    if self.__size == 0:\n",
        "      self.__ref = Nodo(value)\n",
        "    elif self.__size == 1:\n",
        "      if value < self.__ref.dato:\n",
        "        nuevo = Nodo(value, self.__ref)\n",
        "        self.__ref.next = nuevo\n",
        "      else:\n",
        "        nuevo = Nodo(value, self.__ref)\n",
        "        self.__ref.next = nuevo\n",
        "        self.__ref = nuevo\n",
        "    else:\n",
        "      if value > self.__ref.dato:\n",
        "        nuevo = Nodo(value, self.__ref.next)\n",
        "        self.__ref.next = nuevo\n",
        "        self.__ref = nuevo\n",
        "      elif value < self.__ref.next.dato:\n",
        "        nuevo = Nodo(value, self.__ref.next)\n",
        "        self.__ref.next = nuevo\n",
        "      else:\n",
        "        curr_node = self.__ref.next\n",
        "        while curr_node.dato < value:\n",
        "          anterior = curr_node\n",
        "          curr_node = curr_node.next\n",
        "        nuevo = Nodo(value, curr_node)\n",
        "        anterior.next = nuevo\n",
        "    self.__size += 1\n",
        "  \n",
        "  def transversal (self):\n",
        "    curr_node = self.__ref\n",
        "    while curr_node.dato != self.__ref:\n",
        "      print( curr_node.dato , \"-->\" , end=\"\" )\n",
        "      curr_node = curr_node.next\n",
        "    print(\"\")\n",
        "\n",
        "\n",
        "  def remove(self, value):\n",
        "      curr_node = self.__ref\n",
        "      node_aux = self.__ref\n",
        "      while (node_aux.dato != value):\n",
        "        node_aux = node_aux.next\n",
        "\n",
        "      while (curr_node.snext != node_aux):\n",
        "        curr_node = curr_node.next\n",
        "\n",
        "      curr_node.next = curr_node.next.next\n",
        "\n",
        "               "
      ],
      "execution_count": null,
      "outputs": []
    },
    {
      "cell_type": "code",
      "metadata": {
        "id": "3NLkk-gXmFhI"
      },
      "source": [
        "cd = CircularList()\n",
        "cd.insert(5)\n",
        "cd.transversal()"
      ],
      "execution_count": null,
      "outputs": []
    }
  ]
}
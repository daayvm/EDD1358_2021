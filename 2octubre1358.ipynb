{
  "nbformat": 4,
  "nbformat_minor": 0,
  "metadata": {
    "colab": {
      "name": "2octubre1358",
      "provenance": [],
      "authorship_tag": "ABX9TyPkRM7Yj4B+SfoTAJg1THG+",
      "include_colab_link": true
    },
    "kernelspec": {
      "name": "python3",
      "display_name": "Python 3"
    }
  },
  "cells": [
    {
      "cell_type": "markdown",
      "metadata": {
        "id": "view-in-github",
        "colab_type": "text"
      },
      "source": [
        "<a href=\"https://colab.research.google.com/github/daayvm/EDD1358_2021/blob/master/2octubre1358.ipynb\" target=\"_parent\"><img src=\"https://colab.research.google.com/assets/colab-badge.svg\" alt=\"Open In Colab\"/></a>"
      ]
    },
    {
      "cell_type": "markdown",
      "metadata": {
        "id": "DT5OKVLO3Ydm"
      },
      "source": [
        "#Tipos de datos\n",
        "* String  str\n",
        "* Enteros int\n",
        "* N Flotante float\n",
        "* Logico bool\n",
        "* N completjp complex\n",
        "* Listas list\n",
        "* Tuplas tuple\n",
        "* Diccionarios dict\n",
        "* Conjuntos set\n"
      ]
    },
    {
      "cell_type": "code",
      "metadata": {
        "id": "j52Oqmrr322b",
        "outputId": "8c7ab559-b5bf-470f-9ac4-624f223a5aba",
        "colab": {
          "base_uri": "https://localhost:8080/",
          "height": 153
        }
      },
      "source": [
        " #String\n",
        " # puede usar \"\"  ''  \"\"\"\"\n",
        " universidad = \"     universidad       nacional  autonoma  de  mexico    \"\n",
        " print (universidad)\n",
        " # cuando solo es una palabra usamos '', es una buena practica osease\n",
        " # para hacer mas agil\n",
        " carrera = 'ico'\n",
        " area = \"software\"\n",
        " division = 'divi de las ciencias fisico mat'\n",
        " print (carrera,area)\n",
        " print (division)\n",
        "##Para usar \"\"\"\" cuando el string tiene varios renglones\n",
        "frase = \"\"\"\n",
        "si funciona\n",
        "No lo\n",
        "toques \n",
        "\"\"\"\n",
        "print (frase)"
      ],
      "execution_count": 18,
      "outputs": [
        {
          "output_type": "stream",
          "text": [
            "     universidad       nacional  autonoma  de  mexico    \n",
            "ico software\n",
            "divi de las ciencias fisico mat\n",
            "\n",
            "si funciona\n",
            "No lo\n",
            "toques \n",
            "\n"
          ],
          "name": "stdout"
        }
      ]
    },
    {
      "cell_type": "code",
      "metadata": {
        "id": "He1EVEr632xe"
      },
      "source": [
        "#Funciones del string\n",
        "#help (str)\n",
        "print ( universidad.upper()) ##Mayusculas\n",
        "print (universidad) ##normal\n",
        "print (universidad.title() ) ##MAYU cada palabra\n",
        "universidad = universidad.strip() ##Hace copia y quita espacios\n",
        "print (universidad)\n",
        "lista = universidad.split(\" \")\n",
        "print (lista)\n",
        "nueva = \"\"\n",
        "for l in lista:\n",
        "  if len(l) > 0  :\n",
        "    nueva += l + \" \"\n",
        "print (nueva) "
      ],
      "execution_count": null,
      "outputs": []
    },
    {
      "cell_type": "code",
      "metadata": {
        "id": "KncubXovHo57",
        "outputId": "9ba5d7d9-cf94-47e3-95e3-1e1f6ca13bcb",
        "colab": {
          "base_uri": "https://localhost:8080/",
          "height": 119
        }
      },
      "source": [
        "numeros = \"1,2,3,15\"\n",
        "sepa = numeros.split(\",\")\n",
        "print (sepa)\n",
        "numeros_int= []\n",
        "for num in sepa:\n",
        "  numeros_int.append( int (num) )\n",
        "print (numeros_int)\n",
        "\n",
        "print (nueva)\n",
        "print (nueva.index(\"na\") )\n",
        "print (nueva.replace(' ', '*'))\n",
        "print (nueva)\n"
      ],
      "execution_count": 85,
      "outputs": [
        {
          "output_type": "stream",
          "text": [
            "['1', '2', '3', '15']\n",
            "[1, 2, 3, 15]\n",
            "universidad nacional autonoma de mexico \n",
            "12\n",
            "universidad*nacional*autonoma*de*mexico*\n",
            "universidad nacional autonoma de mexico \n"
          ],
          "name": "stdout"
        }
      ]
    },
    {
      "cell_type": "markdown",
      "metadata": {
        "id": "opOTMScuAPMB"
      },
      "source": [
        "Slicing\n",
        "\n",
        "sintaxis [inicio :stop : incremento]"
      ]
    },
    {
      "cell_type": "code",
      "metadata": {
        "id": "3EU3wuZJAZBS",
        "outputId": "231d9c66-135c-4428-db63-8324d10d5602",
        "colab": {
          "base_uri": "https://localhost:8080/",
          "height": 119
        }
      },
      "source": [
        "##Seleccionar elemtnos dentro del String \n",
        "print ( nueva[0] )\n",
        "nueva = nueva.strip()\n",
        "print ( nueva[ len (nueva) - 1 ] ) ##Nega\n",
        "print (nueva[-1])\n",
        "\n",
        "## Slicing\n",
        "##se debe aumentar 1 mas al stop\n",
        "print ( nueva [ 12 : 20 :1 ])\n",
        "print ( nueva[ -6 : :-1]) ##cadena al reves\n",
        " \n",
        "## al reves \n",
        "print ( nueva [ -1: -7 : -1])\n",
        "##valores por defetco\n",
        "\n"
      ],
      "execution_count": 87,
      "outputs": [
        {
          "output_type": "stream",
          "text": [
            "u\n",
            "o\n",
            "o\n",
            "nacional\n",
            "m ed amonotua lanoican dadisrevinu\n",
            "ocixem\n"
          ],
          "name": "stdout"
        }
      ]
    },
    {
      "cell_type": "markdown",
      "metadata": {
        "id": "m1TZYUADEDTC"
      },
      "source": [
        "##Bool\n",
        "Acepta solo dos valores \n",
        "\n",
        "True bool (1) cualquiera que no sea 0\n",
        "\n",
        "False bool (0)"
      ]
    },
    {
      "cell_type": "code",
      "metadata": {
        "id": "sbhsMaG2EQWF",
        "outputId": "d33e685a-9112-4ff9-92cb-fb60d4c2d4da",
        "colab": {
          "base_uri": "https://localhost:8080/",
          "height": 85
        }
      },
      "source": [
        "print (bool (0))\n",
        "print (bool (15435))\n",
        "flag = 8 \n",
        "print (bool (flag))\n",
        "print (True)"
      ],
      "execution_count": 71,
      "outputs": [
        {
          "output_type": "stream",
          "text": [
            "False\n",
            "True\n",
            "True\n",
            "True\n"
          ],
          "name": "stdout"
        }
      ]
    },
    {
      "cell_type": "markdown",
      "metadata": {
        "id": "Q7bJUlycFEZs"
      },
      "source": [
        "##Comentarios\n",
        "Para comentario en una linea usamos #\n",
        "Para comentario de multiple linea, equivalente a /JAVA y C/ utilizamos  \"\"\"\""
      ]
    },
    {
      "cell_type": "code",
      "metadata": {
        "id": "KNrAw8FsF00D"
      },
      "source": [
        "# una linea\n",
        "\"\"\"\n",
        "Varias\n",
        "lineas\n",
        "de \n",
        "texto\n",
        "\"\"\""
      ],
      "execution_count": null,
      "outputs": []
    },
    {
      "cell_type": "markdown",
      "metadata": {
        "id": "q3z3g9QPF7Qk"
      },
      "source": [
        "##Fuincion print \n",
        "1. Comas ,\n",
        "2. Signo +(+)\n",
        "3. Funcion formart () de class string\n",
        "4. Operador f\"\""
      ]
    },
    {
      "cell_type": "code",
      "metadata": {
        "id": "vSj3BHGdGPNA",
        "outputId": "09ae1566-fc47-4598-a459-c73598eae11d",
        "colab": {
          "base_uri": "https://localhost:8080/",
          "height": 102
        }
      },
      "source": [
        "#1. Comas\n",
        "cantidad = 2\n",
        "p_chetos = 8 \n",
        "p_fanta = 12\n",
        "\n",
        "print(cantidad,p_chetos,p_fanta)\n",
        "print (\"---\")\n",
        "#2. Con signo\n",
        "print(\"Fanta\" + \"Chetos\") #concatenacion\n",
        "print (cantidad + p_chetos + p_fanta) #hizo suma\n",
        "print ( str(cantidad) + str(p_chetos) + str(p_fanta) )"
      ],
      "execution_count": 78,
      "outputs": [
        {
          "output_type": "stream",
          "text": [
            "2 8 12\n",
            "---\n",
            "FantaChetos\n",
            "22\n",
            "2812\n"
          ],
          "name": "stdout"
        }
      ]
    }
  ]
}
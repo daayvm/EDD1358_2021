{
  "nbformat": 4,
  "nbformat_minor": 0,
  "metadata": {
    "colab": {
      "name": "ListaDoble.ipynb",
      "provenance": [],
      "include_colab_link": true
    },
    "kernelspec": {
      "name": "python3",
      "display_name": "Python 3"
    }
  },
  "cells": [
    {
      "cell_type": "markdown",
      "metadata": {
        "id": "view-in-github",
        "colab_type": "text"
      },
      "source": [
        "<a href=\"https://colab.research.google.com/github/daayvm/EDD1358_2021/blob/master/ListaDoble.ipynb\" target=\"_parent\"><img src=\"https://colab.research.google.com/assets/colab-badge.svg\" alt=\"Open In Colab\"/></a>"
      ]
    },
    {
      "cell_type": "code",
      "metadata": {
        "id": "e-P1ydbdJ0T_"
      },
      "source": [
        "class NodoDoble:\n",
        "  def __init__( self , value , previo = None , siguiente = None ):\n",
        "    self.data = value\n",
        "    self.prev = previo\n",
        "    self.next = siguiente\n",
        "\n",
        "class DobleLinkedList:\n",
        "  def __init__ (self ):\n",
        "    self.__head = None\n",
        "    self.__tail = None \n",
        "    self.__size = 0 #tama;o\n",
        "\n",
        "  def get_size (self): #Regresa tama;o\n",
        "    return self.__size\n",
        "\n",
        "  def is_emptu (self): #responde si esta vacio \n",
        "    return self.__size == 0\n",
        "\n",
        "  def append (self ,  value ):\n",
        "    if self.is_emptu(): #Primer caso head y tail apuntan a None\n",
        "      nuevo = NodoDoble( value )\n",
        "      self.__head = nuevo\n",
        "      self.__tail = nuevo\n",
        "    else: #segundo caso cuando s hay valores \n",
        "      nuevo = NodoDoble (value , self.__tail , None)\n",
        "      self.__tail.next = nuevo\n",
        "      self.__tail = nuevo\n",
        "\n",
        "    self.__size += 1\n",
        "  \n",
        "  def transversal (self):\n",
        "    curr_node = self.__head\n",
        "    while curr_node != None:\n",
        "      print( \"<--\" , curr_node.data , \"-->\" , end=\"\" )\n",
        "      curr_node = curr_node.next\n",
        "    print(\"\")\n",
        "\n",
        "  ##Tarea es acabar los metodos \n",
        "\n",
        "  def reverse_trans (self):\n",
        "    curr_node = self.__tail\n",
        "    while curr_node != None:\n",
        "      print( \"<--\" , curr_node.data , \"-->\" , end=\"\" )\n",
        "      curr_node = curr_node.prev\n",
        "    print(\"\")\n",
        "\n",
        "  def find_from_head(self,value):\n",
        "      curr_Node = self.__head\n",
        "      encontrado = None\n",
        "      while curr_Node.data != value:\n",
        "        curr_Node = curr_Node.next\n",
        "       \n",
        "      if curr_Node.data == value:\n",
        "        encontrado = curr_Node\n",
        "       \n",
        "      return encontrado\n",
        "\n",
        "  def find_from_tail(self,value):\n",
        "      curr_Node = self.__tail\n",
        "      encontrado = None\n",
        "      while curr_Node.data != value:\n",
        "        curr_Node = curr_Node.prev\n",
        "       \n",
        "      if curr_Node.data == value:\n",
        "        encontrado = curr_Node\n",
        "       \n",
        "      return encontrado\n",
        "\n",
        "  def remove_from_head(self,value):\n",
        "      cur_Node = self.find_from_head(value)\n",
        "      cur_Node.prev.next = cur_Node.next\n",
        "      cur_Node.next.prev = cur_Node.prev\n",
        "      cur_Node.next = None\n",
        "      cur_Node.prev = None\n",
        "      self.__size -= 1\n",
        "      \n",
        "  def remove_from_tail(self, value):\n",
        "      cur_Node = self.find_from_tail(value)\n",
        "      cur_Node.prev.next = cur_Node.next\n",
        "      cur_Node.next.prev = cur_Node.prev\n",
        "      cur_Node.next = None\n",
        "      cur_Node.prev = None\n",
        "      self.__size -= 1\n",
        "\n",
        "\n",
        "  \n"
      ],
      "execution_count": 1,
      "outputs": []
    },
    {
      "cell_type": "code",
      "metadata": {
        "colab": {
          "base_uri": "https://localhost:8080/"
        },
        "id": "AQBbVXLTvryQ",
        "outputId": "7cd7a0ba-4b44-49b3-c16e-c26247c9c028"
      },
      "source": [
        "ldosde = DobleLinkedList()\n",
        "print(\"tama;o: \" , ldosde.get_size())\n",
        "print(\"----\")\n",
        "ldosde.append(10)\n",
        "print(\"tama;o: \" , ldosde.get_size())\n",
        "ldosde.transversal()\n",
        "ldosde.append(20)\n",
        "ldosde.append(30)\n",
        "ldosde.append(40)\n",
        "ldosde.append(50)\n",
        "ldosde.transversal()\n",
        "print(\"tama;o:\" , ldosde.get_size())\n",
        "ldosde.transversal()\n",
        "\n",
        "print(\"De reversa\")\n",
        "ldosde.reverse_trans()\n",
        "ldosde.remove_from_head(20)\n",
        "ldosde.transversal()\n"
      ],
      "execution_count": 10,
      "outputs": [
        {
          "output_type": "stream",
          "text": [
            "tama;o:  0\n",
            "----\n",
            "tama;o:  1\n",
            "<-- 10 -->\n",
            "<-- 10 --><-- 20 --><-- 30 --><-- 40 --><-- 50 -->\n",
            "tama;o: 5\n",
            "<-- 10 --><-- 20 --><-- 30 --><-- 40 --><-- 50 -->\n",
            "De reversa\n",
            "<-- 50 --><-- 40 --><-- 30 --><-- 20 --><-- 10 -->\n",
            "<-- 10 --><-- 30 --><-- 40 --><-- 50 -->\n"
          ],
          "name": "stdout"
        }
      ]
    }
  ]
}
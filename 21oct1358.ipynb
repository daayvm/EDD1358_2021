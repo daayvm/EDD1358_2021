{
  "nbformat": 4,
  "nbformat_minor": 0,
  "metadata": {
    "colab": {
      "name": "21oct1358.ipynb",
      "provenance": [],
      "authorship_tag": "ABX9TyMwwekWQ0xLpIsNr3JnO2Jd",
      "include_colab_link": true
    },
    "kernelspec": {
      "name": "python3",
      "display_name": "Python 3"
    }
  },
  "cells": [
    {
      "cell_type": "markdown",
      "metadata": {
        "id": "view-in-github",
        "colab_type": "text"
      },
      "source": [
        "<a href=\"https://colab.research.google.com/github/daayvm/EDD1358_2021/blob/master/21oct1358.ipynb\" target=\"_parent\"><img src=\"https://colab.research.google.com/assets/colab-badge.svg\" alt=\"Open In Colab\"/></a>"
      ]
    },
    {
      "cell_type": "code",
      "metadata": {
        "id": "Ryg2bG4btBT5",
        "outputId": "2a47de64-637e-4330-aa82-dcf525eab5c3",
        "colab": {
          "base_uri": "https://localhost:8080/",
          "height": 85
        }
      },
      "source": [
        "#Encapulamiento tradicional\n",
        "class SmartP:\n",
        "  def __init__( self, m):\n",
        "    self.__marca = m \n",
        "\n",
        "  def set_marca( self , m):\n",
        "    self.__marca = m \n",
        "  \n",
        "  def get_marca( self ):\n",
        "    return self.__marca\n",
        "  \n",
        "  def to_string ( self ):\n",
        "    return \"La marca es: \" + self.__marca\n",
        "\n",
        "s1 = SmartP (\"huawei\")\n",
        "print(s1.to_string())\n",
        "s1.__marca = \"iphoneX\"\n",
        "print(s1.to_string())\n",
        "s1.set_marca(\"samsung\")\n",
        "print(s1.to_string())\n",
        "\n",
        "print(s1.get_marca())\n"
      ],
      "execution_count": 14,
      "outputs": [
        {
          "output_type": "stream",
          "text": [
            "La marca es: huawei\n",
            "La marca es: huawei\n",
            "La marca es: samsung\n",
            "samsung\n"
          ],
          "name": "stdout"
        }
      ]
    },
    {
      "cell_type": "code",
      "metadata": {
        "id": "N9Jgi2_LxcwL",
        "outputId": "0be6db02-f792-4c24-c8c0-c0eda0bb95ff",
        "colab": {
          "base_uri": "https://localhost:8080/",
          "height": 204
        }
      },
      "source": [
        "#Esncapsulamiento estilo Python 3\n",
        "#se utilizan decoradores, la eclaracion de los atributos tienes que estar\n",
        "#en los metodos de acceso\n",
        "class SmartPhone:\n",
        "  def __init__(self , m ):\n",
        "     self.marca = m #aqui llamamos al metodo get\n",
        "    \n",
        "  @property #define metodo get\n",
        "  def marca( self ):\n",
        "    print(\"Metodo get marca\")\n",
        "    return self.__marca\n",
        "\n",
        "  #metodo set\n",
        "  @marca.setter\n",
        "  def marca (self, m):\n",
        "    if m in (\"Lenovo\" , \"Sony\", \"Motorola\", \"iphone SE\", \"Huawei\", \"Xiaomi\"):\n",
        "      self.__marca = m \n",
        "    else:\n",
        "      print(\"No valida\")\n",
        "\n",
        "  def to_string (self):\n",
        "    return \"Marca = \" + self.marca\n",
        "\n",
        "s2 = SmartPhone(\"Xiaomi\")\n",
        "print( s2.to_string())  \n",
        "s2.__marca = \"iphone\" #bateado \n",
        "print( s2.to_string())  \n",
        "s2.marca = \"Motorola\" # invocamos set\n",
        "print( s2.to_string())  \n",
        "\n",
        "print(s2.marca) #Invocar metodo get\n",
        "\n",
        "s2.marca = \"Mkljhgf\"\n",
        "print( s2.to_string())\n"
      ],
      "execution_count": 23,
      "outputs": [
        {
          "output_type": "stream",
          "text": [
            "Metodo get marca\n",
            "Marca = Xiaomi\n",
            "Metodo get marca\n",
            "Marca = Xiaomi\n",
            "Metodo get marca\n",
            "Marca = Motorola\n",
            "Metodo get marca\n",
            "Motorola\n",
            "No valida\n",
            "Metodo get marca\n",
            "Marca = Motorola\n"
          ],
          "name": "stdout"
        }
      ]
    },
    {
      "cell_type": "code",
      "metadata": {
        "id": "mUqYvcfx5E63",
        "outputId": "66542e20-06be-4fc6-ea19-992a1c50858a",
        "colab": {
          "base_uri": "https://localhost:8080/",
          "height": 88
        }
      },
      "source": [
        "##nombre de a clase(Herencia de la otra clase)\n",
        "class TelefonoTrabajo(SmartPhone):\n",
        "  def __init__( self, m):\n",
        "    self.marca = m\n",
        "\n",
        "s3 = TelefonoTrabajo(\"Motorola\")\n",
        "print(dir(s3))\n",
        "print (s3.to_string())\n",
        "  "
      ],
      "execution_count": 25,
      "outputs": [
        {
          "output_type": "stream",
          "text": [
            "['_SmartPhone__marca', '__class__', '__delattr__', '__dict__', '__dir__', '__doc__', '__eq__', '__format__', '__ge__', '__getattribute__', '__gt__', '__hash__', '__init__', '__init_subclass__', '__le__', '__lt__', '__module__', '__ne__', '__new__', '__reduce__', '__reduce_ex__', '__repr__', '__setattr__', '__sizeof__', '__str__', '__subclasshook__', '__weakref__', 'marca', 'to_string']\n",
            "Metodo get marca\n",
            "Marca = Motorola\n"
          ],
          "name": "stdout"
        }
      ]
    }
  ]
}
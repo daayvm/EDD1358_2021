{
  "nbformat": 4,
  "nbformat_minor": 0,
  "metadata": {
    "colab": {
      "name": "4Enero1358.ipynb",
      "provenance": [],
      "authorship_tag": "ABX9TyMi5PAxHgJ3uqWnQ4Lgx0Jy",
      "include_colab_link": true
    },
    "kernelspec": {
      "name": "python3",
      "display_name": "Python 3"
    }
  },
  "cells": [
    {
      "cell_type": "markdown",
      "metadata": {
        "id": "view-in-github",
        "colab_type": "text"
      },
      "source": [
        "<a href=\"https://colab.research.google.com/github/daayvm/EDD1358_2021/blob/master/4Enero1358.ipynb\" target=\"_parent\"><img src=\"https://colab.research.google.com/assets/colab-badge.svg\" alt=\"Open In Colab\"/></a>"
      ]
    },
    {
      "cell_type": "markdown",
      "metadata": {
        "id": "UJmUNEXzMFL1"
      },
      "source": [
        "##Estructura de datos cola\r\n",
        "- Datos lineal\r\n",
        "-El primero en entrar es el primero en salir\r\n",
        "-Entran por la cola y se sacan por el frente\r\n",
        "-Pueden estar o no ordenados\r\n",
        "-Agregar enqueue\r\n",
        "-Quitar desqueue\r\n",
        "-Con ARRAYADT nos limitamos a esecificar al principio el número"
      ]
    },
    {
      "cell_type": "code",
      "metadata": {
        "id": "hS4CQD0oLa2n"
      },
      "source": [
        "class Queue:\r\n",
        "  def __init__ (self):\r\n",
        "    self.__dato = list()\r\n",
        "\r\n",
        "  def is_empty(self):\r\n",
        "    return len(self.__dato) == 0\r\n",
        "  \r\n",
        "  def length (self):\r\n",
        "    return len(self.__dato)\r\n",
        "\r\n",
        "  def enqueue (self ,  item):\r\n",
        "    self.__dato.append(item)\r\n",
        "  \r\n",
        "  def desqueue (self):\r\n",
        "    if not self.is_empty():\r\n",
        "      self.__dato.pop(0)\r\n",
        "    else:\r\n",
        "      return None\r\n",
        "  \r\n",
        "  def to_string(self):\r\n",
        "    for elem in self.__dato:\r\n",
        "      print(f\" | { elem } \" , end = \"\")\r\n",
        "    print(\"|\")\r\n",
        "\r\n",
        "    \r\n",
        "  "
      ],
      "execution_count": 13,
      "outputs": []
    },
    {
      "cell_type": "code",
      "metadata": {
        "id": "K52S5BuyOClJ"
      },
      "source": [
        "cola1 = Queue()\r\n",
        "cola1.enqueue(10)\r\n",
        "cola1.enqueue(5)\r\n",
        "cola1.enqueue(531)\r\n",
        "cola1.enqueue(34)\r\n",
        "cola1.to_string()\r\n",
        "#Metemos\r\n",
        "cola1.enqueue(0)\r\n",
        "cola1.to_string()\r\n",
        "\r\n",
        "#sacamos\r\n",
        "cola1.desqueue()\r\n",
        "print(f\"Ele elemento es: { elem }\")\r\n",
        "cola1.to_string()"
      ],
      "execution_count": null,
      "outputs": []
    },
    {
      "cell_type": "code",
      "metadata": {
        "id": "qgdeAvMtVbAU"
      },
      "source": [
        "c1 = { \"id\" : 1 , \"nombre\":\"Jose\" , \"balance\":2345654.99}\r\n",
        "c2 = { \"id\" : 2 , \"nombre\":\"Maria\" , \"balance\":2323.01}\r\n",
        "c3 = { \"id\" : 3 , \"nombre\":\"Jesus\" , \"balance\":333.55}\r\n",
        "\r\n",
        "queue = Queue()\r\n",
        "queue.enqueue(c1)\r\n",
        "queue.enqueue(c2)\r\n",
        "queue.enqueue(c3)\r\n",
        "queue.to_string()\r\n",
        "\r\n",
        "atender = queue.desqueue()\r\n",
        "print(f\"HOLA { atender['nombre'] }, que tramite desea hacer? \")\r\n"
      ],
      "execution_count": null,
      "outputs": []
    }
  ]
}
{
  "nbformat": 4,
  "nbformat_minor": 0,
  "metadata": {
    "colab": {
      "name": "Barco.ipynb",
      "provenance": [],
      "include_colab_link": true
    },
    "kernelspec": {
      "name": "python3",
      "display_name": "Python 3"
    }
  },
  "cells": [
    {
      "cell_type": "markdown",
      "metadata": {
        "id": "view-in-github",
        "colab_type": "text"
      },
      "source": [
        "<a href=\"https://colab.research.google.com/github/daayvm/EDD1358_2021/blob/master/Barco.ipynb\" target=\"_parent\"><img src=\"https://colab.research.google.com/assets/colab-badge.svg\" alt=\"Open In Colab\"/></a>"
      ]
    },
    {
      "cell_type": "code",
      "metadata": {
        "id": "0CcXssshP0HQ"
      },
      "source": [
        "class Queue:\r\n",
        "  def __init__ (self):\r\n",
        "    self.__dato = list()\r\n",
        "\r\n",
        "  def is_empty(self):\r\n",
        "    return self.__size == 0 \r\n",
        "  \r\n",
        "  def length (self):\r\n",
        "    return len(self.__dato)\r\n",
        "\r\n",
        "  def enqueue (self ,  item):\r\n",
        "    self.__dato.append(item)\r\n",
        "  \r\n",
        "  def desqueue (self):\r\n",
        "    if not self.is_empty():\r\n",
        "      self.__dato.pop(0)\r\n",
        "    else:\r\n",
        "      return None\r\n",
        "  \r\n",
        "  def to_string(self):\r\n",
        "    cadena = \"\"\r\n",
        "    for elem in self.__dato:\r\n",
        "      cadena = cadena + '|' + elem\r\n",
        "    cadena = cadena + \"|\"\r\n",
        "    return cadena\r\n"
      ],
      "execution_count": 26,
      "outputs": []
    },
    {
      "cell_type": "code",
      "metadata": {
        "id": "GKp1ebYnRl0A"
      },
      "source": [
        "class PriorityQueue:\r\n",
        "\r\n",
        "  def __init__(self):\r\n",
        "    self.__dato = []\r\n",
        "    self.__size = 0\r\n",
        "  \r\n",
        "  def is_empty(self):\r\n",
        "    return len(self.__dato) == 0\r\n",
        "\r\n",
        "  def length(self):\r\n",
        "    return len(self.__dato) \r\n",
        "\r\n",
        "  def enqueue(self, prioridad, elemento): \r\n",
        "    self.__dato.append([prioridad, elemento])\r\n",
        "    self.__size += 1\r\n",
        "\r\n",
        "    for numPasada in range(len(self.__dato)-1,0,-1):\r\n",
        "        for i in range(numPasada):\r\n",
        "            if self.__dato[i][0]>self.__dato[i+1][0]:\r\n",
        "                temp = self.__dato[i]\r\n",
        "                self.__dato[i] = self.__dato[i+1]\r\n",
        "                self.__dato[i+1] = temp\r\n",
        "    \r\n",
        "\r\n",
        "  def desqueue (self):\r\n",
        "    if not self.is_empty():\r\n",
        "      self.__dato.pop(0)\r\n",
        "    else:\r\n",
        "      return None\r\n",
        "\r\n",
        "  def to_string(self):\r\n",
        "    for elem in self.__dato:\r\n",
        "      print(f\" | {  elem } |\")\r\n",
        "    \r\n",
        "  \r\n",
        "  "
      ],
      "execution_count": 27,
      "outputs": []
    },
    {
      "cell_type": "code",
      "metadata": {
        "colab": {
          "base_uri": "https://localhost:8080/"
        },
        "id": "NCMNUYXuRtaw",
        "outputId": "0f217c37-2619-481b-8574-1a78c3004f8a"
      },
      "source": [
        "barco = PriorityQueue()\r\n",
        "barco.enqueue(4, \"Maestre\")\r\n",
        "barco.enqueue(2,\"Ni;os\")\r\n",
        "barco.enqueue(4,\"Mecanico\")\r\n",
        "barco.enqueue(3,\"Hombre\")\r\n",
        "barco.enqueue(4,\"Vigia\")\r\n",
        "barco.enqueue(5,\"Cap\")\r\n",
        "barco.enqueue(4,\"Timonel\")\r\n",
        "barco.enqueue(3,\"Mujeres\")\r\n",
        "barco.enqueue(2,\"3ra Edad\")\r\n",
        "barco.enqueue(1,\"Ni;as\")\r\n",
        "barco.to_string()\r\n",
        "print(\"-----------\")\r\n",
        "print(\"Abandonar barco\")\r\n",
        "barco.desqueue()\r\n",
        "barco.desqueue()\r\n",
        "barco.desqueue()\r\n",
        "barco.desqueue()\r\n",
        "barco.desqueue()\r\n",
        "barco.desqueue()\r\n",
        "barco.desqueue()\r\n",
        "barco.desqueue()\r\n",
        "barco.desqueue()\r\n",
        "barco.to_string()\r\n"
      ],
      "execution_count": 35,
      "outputs": [
        {
          "output_type": "stream",
          "text": [
            " | [1, 'Ni;as'] |\n",
            " | [2, 'Ni;os'] |\n",
            " | [2, '3ra Edad'] |\n",
            " | [3, 'Hombre'] |\n",
            " | [3, 'Mujeres'] |\n",
            " | [4, 'Maestre'] |\n",
            " | [4, 'Mecanico'] |\n",
            " | [4, 'Vigia'] |\n",
            " | [4, 'Timonel'] |\n",
            " | [5, 'Cap'] |\n",
            "-----------\n",
            "Abandonar barco\n",
            " | [5, 'Cap'] |\n"
          ],
          "name": "stdout"
        }
      ]
    }
  ]
}
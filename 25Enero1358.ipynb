{
  "nbformat": 4,
  "nbformat_minor": 0,
  "metadata": {
    "colab": {
      "name": "25Enero1358.ipynb",
      "provenance": [],
      "authorship_tag": "ABX9TyPsntp7rC7cK8BxKjxtXRpR",
      "include_colab_link": true
    },
    "kernelspec": {
      "name": "python3",
      "display_name": "Python 3"
    }
  },
  "cells": [
    {
      "cell_type": "markdown",
      "metadata": {
        "id": "view-in-github",
        "colab_type": "text"
      },
      "source": [
        "<a href=\"https://colab.research.google.com/github/daayvm/EDD1358_2021/blob/master/25Enero1358.ipynb\" target=\"_parent\"><img src=\"https://colab.research.google.com/assets/colab-badge.svg\" alt=\"Open In Colab\"/></a>"
      ]
    },
    {
      "cell_type": "markdown",
      "metadata": {
        "id": "1cWUlT9oSIXY"
      },
      "source": [
        "##Arboles Binarios"
      ]
    },
    {
      "cell_type": "code",
      "metadata": {
        "id": "4j8SqVmkR7F6"
      },
      "source": [
        "class NodoArbol:\r\n",
        "  def __init__ (self, valor, left = None , right = None):\r\n",
        "    self.dato = valor\r\n",
        "    self.left = left\r\n",
        "    self.right = right"
      ],
      "execution_count": 6,
      "outputs": []
    },
    {
      "cell_type": "code",
      "metadata": {
        "id": "hHjOj9l6Sy06"
      },
      "source": [
        "class ABBusqueda:\r\n",
        "  def __init__(self):\r\n",
        "    self.__root = None #El root\r\n",
        "\r\n",
        "  def insert(self, valor):\r\n",
        "    if self.__root == None: \r\n",
        "      self.__root = NodoArbol( valor )\r\n",
        "    else: #recursividad :(\r\n",
        "      self.__insert__(self.__root , valor)\r\n",
        "  \r\n",
        "  def __insert__(self , nodo, valor): #Recursividad\r\n",
        "    if nodo.dato == valor :\r\n",
        "      print(\"Nodo ya existente, no inserta: \" , valor)\r\n",
        "\r\n",
        "    elif valor < nodo.dato:\r\n",
        "      #va izquierda\r\n",
        "      if nodo.left == None:\r\n",
        "        nodo.left = NodoArbol(valor, None, None)\r\n",
        "      else:\r\n",
        "        self.__insert__( nodo.left, valor)\r\n",
        "\r\n",
        "    else:\r\n",
        "      #va derecha\r\n",
        "      if nodo.right == None:\r\n",
        "        nodo.right = NodoArbol(valor, None, None)\r\n",
        "      else:\r\n",
        "        self.__insert__( nodo.right, valor)\r\n",
        "\r\n",
        "  def transversal(self, format =\"in\"): #Por defecto es in orden\r\n",
        "    if format == \"in\": #Recursivo\r\n",
        "      print(\"\\n Recorrido in orden\")\r\n",
        "      self.__recorrido_in(self.__root)\r\n",
        "\r\n",
        "    elif format == \"pre\" :\r\n",
        "      print(\"\\n Recorrido pre orden\")\r\n",
        "      self.__recorrido_pre(self.__root)\r\n",
        "    elif format == \"pos\":\r\n",
        "      print(\"\\n Recrrido pos orden\")\r\n",
        "      self.__recorrido_pos(self.__root)\r\n",
        "    else:\r\n",
        "      print(\"REcorrido no valido\")\r\n",
        "\r\n",
        "  def __recorrido_in(self, nodo):\r\n",
        "    if nodo == None: #primero vemos si llegamo al CB\r\n",
        "      #print(\"Caso base\")\r\n",
        "      pass\r\n",
        "    else:\r\n",
        "      self.__recorrido_in(nodo.left) #Vemos que hay en el hijo ixquiero\r\n",
        "      print(nodo.dato , end=\",\" )\r\n",
        "      self.__recorrido_in(nodo.right) #Vemos que hay en el hijo derecho\r\n",
        "  \r\n",
        "  def __recorrido_pre(self , nodo):\r\n",
        "    if nodo == None:\r\n",
        "      pass\r\n",
        "    else:\r\n",
        "      print(nodo.dato , end=\",\" )\r\n",
        "      self.__recorrido_pre(nodo.left)\r\n",
        "      self.__recorrido_pre(nodo.right)\r\n",
        "\r\n",
        "  def __recorrido_pos(self, nodo):\r\n",
        "    if nodo == None:\r\n",
        "      pass\r\n",
        "    else:\r\n",
        "      self.__recorrido_pos(nodo.left)\r\n",
        "      self.__recorrido_pos(nodo.right)\r\n",
        "      print(nodo.dato , end=\",\" )\r\n",
        "  \r\n",
        "  def search(self ,  valor):\r\n",
        "    if self.__root == None:\r\n",
        "      print(\"Arbol Vacio\")\r\n",
        "    \r\n",
        "    else:\r\n",
        "      return self.__search(self.__root, valor)\r\n",
        "\r\n",
        "  def __search(self , nodo, valor):\r\n",
        "    if nodo == None:\r\n",
        "      return None\r\n",
        "    elif nodo.dato == valor:\r\n",
        "      return nodo\r\n",
        "    elif valor < nodo.dato:\r\n",
        "      print(\"Izquierda\")\r\n",
        "      return self.__search(nodo.left , valor)\r\n",
        "    else:\r\n",
        "      print(\"Derecha\")\r\n",
        "      return self.__search(nodo.right , valor)\r\n",
        "  \r\n",
        "  def remove(self, valor):\r\n",
        "    if self.__root == None:\r\n",
        "      print(\"Arbol vacio\")\r\n",
        "    else :\r\n",
        "      self.__remove(None, None, self.__root, valor)\r\n",
        "\r\n",
        "  def __remove(self, padre_hiz, padre_hder , actual, valor):\r\n",
        "    if actual == None:\r\n",
        "      print(\"Caso base\")\r\n",
        "      return None\r\n",
        "    elif actual.dato == valor:\r\n",
        "      print(\"\\n Encontrado: \" , actual.dato)\r\n",
        "      #caso 1 Nodo Hoja\r\n",
        "      if actual.left == None and actual.right == None:\r\n",
        "        if padre_hiz != None:\r\n",
        "          padre_hiz.left = None\r\n",
        "        else:\r\n",
        "          padre_hder.right = None \r\n",
        "      #caso 2 Tiene un hijo Solo puede tener 1\r\n",
        "      #Pregunta si tiene un hijo izquiero pero no derecho O si derecho\r\n",
        "      elif (actual.left != None and actual.right == None ) or (actual.right != None and actual.left == None) :\r\n",
        "        if actual.left != None:\r\n",
        "          aux = actual.left\r\n",
        "          actual.left = None\r\n",
        "          actual = aux\r\n",
        "        else:\r\n",
        "          aux = actual.right\r\n",
        "          actual.right = None\r\n",
        "          actual = aux\r\n",
        "\r\n",
        "      \r\n",
        "      #caso 3 Tiene los dos hijos\r\n",
        "  \r\n",
        "    elif valor < actual.dato:\r\n",
        "      self.__remove(actual, None, actual.left, valor )\r\n",
        "    else:\r\n",
        "      self.__remove( None, actual, actual.right, valor )\r\n",
        "\r\n",
        "    \r\n",
        "\r\n"
      ],
      "execution_count": 24,
      "outputs": []
    },
    {
      "cell_type": "code",
      "metadata": {
        "id": "v6zncuL-dPk6"
      },
      "source": [
        "abb1 = ABBusqueda()\r\n",
        "abb1.insert(50)\r\n",
        "abb1.insert(30)\r\n",
        "abb1.insert(60)\r\n",
        "abb1.insert(35)\r\n",
        "abb1.insert(89)\r\n",
        "abb1.insert(55)\r\n",
        "abb1.insert(1)\r\n",
        "abb1.insert(33)\r\n",
        "abb1.insert(80)\r\n",
        "abb1.insert(100)\r\n",
        "abb1.insert(57)\r\n"
      ],
      "execution_count": 26,
      "outputs": []
    },
    {
      "cell_type": "code",
      "metadata": {
        "colab": {
          "base_uri": "https://localhost:8080/"
        },
        "id": "2ep5eeAmjDZ2",
        "outputId": "df174344-dc60-4fe3-abba-076e68ef515a"
      },
      "source": [
        "print(\"25Enero\")\r\n",
        "abb1.transversal()\r\n",
        "abb1.remove(33)\r\n",
        "abb1.transversal()"
      ],
      "execution_count": 28,
      "outputs": [
        {
          "output_type": "stream",
          "text": [
            "25Enero\n",
            "\n",
            " Recorrido in orden\n",
            "1,30,33,35,50,55,57,60,80,89,100,\n",
            " Encontrado:  33\n",
            "\n",
            " Recorrido in orden\n",
            "1,30,35,50,55,57,60,80,89,100,"
          ],
          "name": "stdout"
        }
      ]
    }
  ]
}
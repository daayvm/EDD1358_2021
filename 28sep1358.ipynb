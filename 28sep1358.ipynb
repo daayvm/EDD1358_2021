{
  "nbformat": 4,
  "nbformat_minor": 0,
  "metadata": {
    "colab": {
      "name": "28sep1358.ipynb",
      "provenance": [],
      "collapsed_sections": [],
      "authorship_tag": "ABX9TyOI93w1MA7lLPDNl2gr2GnW",
      "include_colab_link": true
    },
    "kernelspec": {
      "name": "python3",
      "display_name": "Python 3"
    }
  },
  "cells": [
    {
      "cell_type": "markdown",
      "metadata": {
        "id": "view-in-github",
        "colab_type": "text"
      },
      "source": [
        "<a href=\"https://colab.research.google.com/github/daayvm/EDD1358_2021/blob/master/28sep1358.ipynb\" target=\"_parent\"><img src=\"https://colab.research.google.com/assets/colab-badge.svg\" alt=\"Open In Colab\"/></a>"
      ]
    },
    {
      "cell_type": "code",
      "metadata": {
        "id": "DZLrP3FRXzgK",
        "outputId": "d76a983d-bd14-4fa7-9f87-8b409a46dcd5",
        "colab": {
          "base_uri": "https://localhost:8080/",
          "height": 34
        }
      },
      "source": [
        "print (\"Hola colab research\")\n",
        "nombre = \"EDD\"\n",
        "val= \"10\"\n"
      ],
      "execution_count": 12,
      "outputs": [
        {
          "output_type": "stream",
          "text": [
            "Hola colab research\n"
          ],
          "name": "stdout"
        }
      ]
    },
    {
      "cell_type": "code",
      "metadata": {
        "id": "UcXSplLcYY-0",
        "outputId": "d2a1180e-425e-483b-de65-b38c70836ce3",
        "colab": {
          "base_uri": "https://localhost:8080/",
          "height": 51
        }
      },
      "source": [
        "print (nombre)\n",
        "print (val)\n"
      ],
      "execution_count": 14,
      "outputs": [
        {
          "output_type": "stream",
          "text": [
            "EDD\n",
            "10\n"
          ],
          "name": "stdout"
        }
      ]
    },
    {
      "cell_type": "markdown",
      "metadata": {
        "id": "HanVnhy0Z44j"
      },
      "source": [
        "# Encabezado \n",
        "## doble gato para encabezado nivel 2\n",
        "* E1\n",
        "* E2\n",
        "* E3\n",
        "1. E4\n",
        "2. E5\n",
        "3. E6\n",
        "\n",
        "_**Negritas con doble asterisco y con titalica guion bajo**_\n",
        "\n",
        "_italica_\n",
        "\n",
        "\n",
        "El constructos se declara con _init_\n",
        "los atributos se declaran don def__combredeclase(self):"
      ]
    },
    {
      "cell_type": "code",
      "metadata": {
        "id": "1FybSLEKcA5O"
      },
      "source": [
        "class silla():\n",
        "  def _init_( self ):\n",
        "    self.mate = \"\"\n",
        "    self.color = \"\"\n",
        "\n",
        "  def to_string( self ):\n",
        "    print (\"---\")\n",
        "    print ( f\"Material: { self.mate } \" )\n",
        "    print ( f\"Color:{  self.color } \")\n"
      ],
      "execution_count": 30,
      "outputs": []
    },
    {
      "cell_type": "code",
      "metadata": {
        "id": "TjLl3MYmdu7r",
        "outputId": "a7ffa19d-2e24-4cc2-9610-024c7d0b3889",
        "colab": {
          "base_uri": "https://localhost:8080/",
          "height": 68
        }
      },
      "source": [
        "obj = silla()\n",
        "obj.mate = \"Madera\"\n",
        "obj.color = \"Rojo\"\n",
        "obj.to_string()"
      ],
      "execution_count": 31,
      "outputs": [
        {
          "output_type": "stream",
          "text": [
            "---\n",
            "Material: Madera \n",
            "Color:Rojo \n"
          ],
          "name": "stdout"
        }
      ]
    }
  ]
}
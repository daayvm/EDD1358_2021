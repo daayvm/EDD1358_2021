{
  "nbformat": 4,
  "nbformat_minor": 0,
  "metadata": {
    "colab": {
      "name": "8Enero1358.ipynb",
      "provenance": [],
      "authorship_tag": "ABX9TyMtCmkLbJLAsZMSaEttjGWv",
      "include_colab_link": true
    },
    "kernelspec": {
      "name": "python3",
      "display_name": "Python 3"
    }
  },
  "cells": [
    {
      "cell_type": "markdown",
      "metadata": {
        "id": "view-in-github",
        "colab_type": "text"
      },
      "source": [
        "<a href=\"https://colab.research.google.com/github/daayvm/EDD1358_2021/blob/master/8Enero1358.ipynb\" target=\"_parent\"><img src=\"https://colab.research.google.com/assets/colab-badge.svg\" alt=\"Open In Colab\"/></a>"
      ]
    },
    {
      "cell_type": "markdown",
      "metadata": {
        "id": "uzuO_I4senrl"
      },
      "source": [
        "##COLA Prioridad\r\n",
        "- Cola es uns estructura de datos lineal o de dos dimensiones\r\n",
        "\r\n",
        "- Se agregan por un extremo asignando prioridad\r\n"
      ]
    },
    {
      "cell_type": "code",
      "metadata": {
        "id": "50NPODXtd4cy"
      },
      "source": [
        "class Queue:\r\n",
        "  def __init__ (self):\r\n",
        "    self.__dato = list()\r\n",
        "\r\n",
        "  def is_empty(self):\r\n",
        "    return len(self.__dato) == 0\r\n",
        "  \r\n",
        "  def length (self):\r\n",
        "    return len(self.__dato)\r\n",
        "\r\n",
        "  def enqueue (self ,  item):\r\n",
        "    self.__dato.append(item)\r\n",
        "  \r\n",
        "  def desqueue (self):\r\n",
        "    if not self.is_empty():\r\n",
        "      self.__dato.pop(0)\r\n",
        "    else:\r\n",
        "      return None\r\n",
        "  \r\n",
        "  def to_string(self):\r\n",
        "    cadena = \"\"\r\n",
        "    for elem in self.__dato:\r\n",
        "      cadena = cadena + '|' + elem\r\n",
        "    cadena = cadena + \"|\"\r\n",
        "    return cadena\r\n"
      ],
      "execution_count": 32,
      "outputs": []
    },
    {
      "cell_type": "code",
      "metadata": {
        "id": "O9kNrRRRpaS0"
      },
      "source": [
        "class BoundedPriorityQueue:\r\n",
        "  def __init__(self, niveles):\r\n",
        "    self.__dato = [ Queue() for x in range (niveles)]\r\n",
        "    self.__size = 0\r\n",
        "  \r\n",
        "  def is_empty(self):\r\n",
        "    return self.__size ==0\r\n",
        "  \r\n",
        "  def length(self):\r\n",
        "    return self.__size\r\n",
        "  \r\n",
        "  def enqueue (self, prioridad, elem):\r\n",
        "\r\n",
        "     if prioridad < len(self.__dato) and prioridad >= 0:\r\n",
        "            self.__dato[prioridad].enqueue(elem)\r\n",
        "            self.__size +=1\r\n",
        "     else:\r\n",
        "            print(\"Prioridad fuera de rango.\")\r\n",
        "\r\n",
        "  def dequeue (self):\r\n",
        "    if not self.is_empty():\r\n",
        "      nivel = 0 \r\n",
        "      while self.__dato[nivel].is_empty():\r\n",
        "        nivel +=1 \r\n",
        "      return self.__dato[nivel].dequeue\r\n",
        "  \r\n",
        "  def to_string (self):\r\n",
        "    for nivel in range(len(self.__dato)):\r\n",
        "      print(f\"Nivel: { nivel } -> { self.__dato[nivel].to_string()}\"   )\r\n",
        "      "
      ],
      "execution_count": 33,
      "outputs": []
    },
    {
      "cell_type": "code",
      "metadata": {
        "colab": {
          "base_uri": "https://localhost:8080/"
        },
        "id": "7ar24KZS2Bk0",
        "outputId": "1b4bb928-a3ea-4022-a111-bfacd217a450"
      },
      "source": [
        "colapa1 = BoundedPriorityQueue(5)\r\n",
        "\"\"\"\r\n",
        "Prioridad   Nombre\r\n",
        "2           Diana\r\n",
        "3           Santi\r\n",
        "0           Roberto\r\n",
        "0           PEdro\r\n",
        "2           MAria\r\n",
        "3           Jose\r\n",
        "4           Mayra\r\n",
        "4           Elena\r\n",
        "\r\n",
        "\"\"\"\r\n",
        "colapa1.enqueue(2 , \"Diana\" )\r\n",
        "colapa1.enqueue(3 , \"Santi\" )\r\n",
        "colapa1.enqueue(0 , \"Roberto\" )\r\n",
        "colapa1.enqueue(0 , \"Pedro\" )\r\n",
        "colapa1.enqueue(2 , \"MAria\" )\r\n",
        "colapa1.enqueue(3 , \"Jose\" )\r\n",
        "colapa1.enqueue(4 , \"Mayra\" )\r\n",
        "colapa1.enqueue(4 , \"Elena\" )\r\n",
        "colapa1.to_string()\r\n",
        "\r\n",
        "\r\n"
      ],
      "execution_count": 35,
      "outputs": [
        {
          "output_type": "stream",
          "text": [
            "Nivel: 0 -> |Roberto|Pedro|\n",
            "Nivel: 1 -> |\n",
            "Nivel: 2 -> |Diana|MAria|\n",
            "Nivel: 3 -> |Santi|Jose|\n",
            "Nivel: 4 -> |Mayra|Elena|\n"
          ],
          "name": "stdout"
        }
      ]
    }
  ]
}
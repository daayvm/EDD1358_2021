{
  "nbformat": 4,
  "nbformat_minor": 0,
  "metadata": {
    "colab": {
      "name": "22Enero1358.ipynb",
      "provenance": [],
      "authorship_tag": "ABX9TyNPlgulAaLzBivVNBmmE0HN",
      "include_colab_link": true
    },
    "kernelspec": {
      "name": "python3",
      "display_name": "Python 3"
    }
  },
  "cells": [
    {
      "cell_type": "markdown",
      "metadata": {
        "id": "view-in-github",
        "colab_type": "text"
      },
      "source": [
        "<a href=\"https://colab.research.google.com/github/daayvm/EDD1358_2021/blob/master/22Enero1358.ipynb\" target=\"_parent\"><img src=\"https://colab.research.google.com/assets/colab-badge.svg\" alt=\"Open In Colab\"/></a>"
      ]
    },
    {
      "cell_type": "markdown",
      "metadata": {
        "id": "1cWUlT9oSIXY"
      },
      "source": [
        "##Arboles Binarios"
      ]
    },
    {
      "cell_type": "code",
      "metadata": {
        "id": "4j8SqVmkR7F6"
      },
      "source": [
        "class NodoArbol:\r\n",
        "  def __init__ (self, valor, left = None , right = None):\r\n",
        "    self.dato = valor\r\n",
        "    self.left = left\r\n",
        "    self.right = right"
      ],
      "execution_count": 12,
      "outputs": []
    },
    {
      "cell_type": "code",
      "metadata": {
        "id": "hHjOj9l6Sy06"
      },
      "source": [
        "class ABBusqueda:\r\n",
        "  def __init__(self):\r\n",
        "    self.__root = None #El root\r\n",
        "\r\n",
        "  def insert(self, valor):\r\n",
        "    if self.__root == None: \r\n",
        "      self.__root = NodoArbol( valor )\r\n",
        "    else: #recursividad :(\r\n",
        "      self.__insert__(self.__root , valor)\r\n",
        "  \r\n",
        "  def __insert__(self , nodo, valor): #Recursividad\r\n",
        "    if nodo.dato == valor :\r\n",
        "      print(\"Nodo ya existente, no inserta: \" , valor)\r\n",
        "\r\n",
        "    elif valor < nodo.dato:\r\n",
        "      #va izquierda\r\n",
        "      if nodo.left == None:\r\n",
        "        nodo.left = NodoArbol(valor, None, None)\r\n",
        "      else:\r\n",
        "        self.__insert__( nodo.left, valor)\r\n",
        "\r\n",
        "    else:\r\n",
        "      #va derecha\r\n",
        "      if nodo.right == None:\r\n",
        "        nodo.right = NodoArbol(valor, None, None)\r\n",
        "      else:\r\n",
        "        self.__insert__( nodo.right, valor)\r\n",
        "\r\n",
        "  def transversal(self, format =\"in\"): #Por defecto es in orden\r\n",
        "    if format == \"in\": #Recursivo\r\n",
        "      print(\"\\n Recorrido in orden\")\r\n",
        "      self.__recorrido_in(self.__root)\r\n",
        "\r\n",
        "    elif format == \"pre\" :\r\n",
        "      print(\"\\n Recorrido pre orden\")\r\n",
        "      self.__recorrido_pre(self.__root)\r\n",
        "    elif format == \"pos\":\r\n",
        "      print(\"\\n Recrrido pos orden\")\r\n",
        "      self.__recorrido_pos(self.__root)\r\n",
        "    else:\r\n",
        "      print(\"REcorrido no valido\")\r\n",
        "\r\n",
        "  def __recorrido_in(self, nodo):\r\n",
        "    if nodo == None: #primero vemos si llegamo al CB\r\n",
        "      #print(\"Caso base\")\r\n",
        "      pass\r\n",
        "    else:\r\n",
        "      self.__recorrido_in(nodo.left) #Vemos que hay en el hijo ixquiero\r\n",
        "      print(nodo.dato , end=\",\" )\r\n",
        "      self.__recorrido_in(nodo.right) #Vemos que hay en el hijo derecho\r\n",
        "  \r\n",
        "  def __recorrido_pre(self , nodo):\r\n",
        "    if nodo == None:\r\n",
        "      pass\r\n",
        "    else:\r\n",
        "      print(nodo.dato , end=\",\" )\r\n",
        "      self.__recorrido_pre(nodo.left)\r\n",
        "      self.__recorrido_pre(nodo.right)\r\n",
        "\r\n",
        "  def __recorrido_pos(self, nodo):\r\n",
        "    if nodo == None:\r\n",
        "      pass\r\n",
        "    else:\r\n",
        "      self.__recorrido_pos(nodo.left)\r\n",
        "      self.__recorrido_pos(nodo.right)\r\n",
        "      print(nodo.dato , end=\",\" )\r\n",
        "  \r\n",
        "  def search(self ,  valor):\r\n",
        "    if self.__root == None:\r\n",
        "      print(\"Arbol Vacio\")\r\n",
        "    \r\n",
        "    else:\r\n",
        "      return self.__search(self.__root, valor)\r\n",
        "\r\n",
        "  def __search(self , nodo, valor):\r\n",
        "    if nodo == None:\r\n",
        "      return None\r\n",
        "    elif nodo.dato == valor:\r\n",
        "      return nodo\r\n",
        "    elif valor < nodo.dato:\r\n",
        "      print(\"Izquierda\")\r\n",
        "      return self.__search(nodo.left , valor)\r\n",
        "    else:\r\n",
        "      print(\"Derecha\")\r\n",
        "      return self.__search(nodo.right , valor)\r\n",
        "\r\n",
        "\r\n",
        "    \r\n",
        "\r\n"
      ],
      "execution_count": 35,
      "outputs": []
    },
    {
      "cell_type": "code",
      "metadata": {
        "colab": {
          "base_uri": "https://localhost:8080/"
        },
        "id": "v6zncuL-dPk6",
        "outputId": "e7d1cb65-2400-4fc9-8cfe-b5329438aa6d"
      },
      "source": [
        "abb1 = ABBusqueda()\r\n",
        "abb1.insert(50)\r\n",
        "abb1.insert(30)\r\n",
        "abb1.insert(60)\r\n",
        "abb1.insert(35)\r\n",
        "abb1.insert(89)\r\n",
        "abb1.insert(70)\r\n",
        "abb1.insert(1)\r\n",
        "abb1.transversal()\r\n",
        "abb1.transversal(\"pre\")\r\n",
        "abb1.transversal(\"pos\")\r\n",
        "res = abb1.search(70)\r\n",
        "print(f\"El nodo es: {res.dato}, Hijo iz: {res.left} , Hijo der: {res.right}\")\r\n"
      ],
      "execution_count": 36,
      "outputs": [
        {
          "output_type": "stream",
          "text": [
            "\n",
            " Recorrido in orden\n",
            "1,30,35,50,60,70,89,\n",
            " Recorrido pre orden\n",
            "50,30,1,35,60,89,70,\n",
            " Recrrido pos orden\n",
            "1,35,30,70,89,60,50,Derecha\n",
            "Derecha\n",
            "Izquierda\n",
            "El nodo es: 70, Hijo iz: None , Hijo der: None\n"
          ],
          "name": "stdout"
        }
      ]
    }
  ]
}
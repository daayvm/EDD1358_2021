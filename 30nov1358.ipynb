{
  "nbformat": 4,
  "nbformat_minor": 0,
  "metadata": {
    "colab": {
      "name": "30nov1358.ipynb",
      "provenance": [],
      "authorship_tag": "ABX9TyOJDUv7gVbYIy+KZO/xVUGI",
      "include_colab_link": true
    },
    "kernelspec": {
      "name": "python3",
      "display_name": "Python 3"
    }
  },
  "cells": [
    {
      "cell_type": "markdown",
      "metadata": {
        "id": "view-in-github",
        "colab_type": "text"
      },
      "source": [
        "<a href=\"https://colab.research.google.com/github/daayvm/EDD1358_2021/blob/master/30nov1358.ipynb\" target=\"_parent\"><img src=\"https://colab.research.google.com/assets/colab-badge.svg\" alt=\"Open In Colab\"/></a>"
      ]
    },
    {
      "cell_type": "code",
      "metadata": {
        "id": "QLQom05C7rCo"
      },
      "source": [
        "class Stack:\n",
        "  def __init__(self):\n",
        "    self.__dato = []\n",
        "    self.__size = 0\n",
        "  \n",
        "  def pop(self):\n",
        "    return self.__dato.pop()\n",
        "  \n",
        "  def peak(self):\n",
        "    return self.__dato[-1]\n",
        "  \n",
        "  def push(self, value ):\n",
        "    self.__dato.append(value)\n",
        "  \n",
        "  def to_string(self):\n",
        "    print(\"---------\")\n",
        "    for dat in self.__dato[::-1]:\n",
        "      print(f\" | {dat} |\")\n",
        "      print(\"--------\")\n"
      ],
      "execution_count": 9,
      "outputs": []
    },
    {
      "cell_type": "code",
      "metadata": {
        "colab": {
          "base_uri": "https://localhost:8080/"
        },
        "id": "LuzRYkboAC6m",
        "outputId": "100fe7b7-0781-420a-ddc4-2f3d25a78d03"
      },
      "source": [
        "pila = Stack()\n",
        "#Agregamos nuestros valores\n",
        "pila.push(34)\n",
        "pila.push(10)\n",
        "pila.push(45)\n",
        "pila.push(4)\n",
        "pila.push(33)\n",
        "pila.to_string()\n",
        "print(\"******\")\n",
        "#Eliminamos un valor\n",
        "valor = pila.pop()\n",
        "print(valor * 2 )\n",
        "pila.to_string()\n",
        "print(\"******\")\n",
        "valor = pila.peak()\n",
        "print(valor * 2 )\n",
        "pila.to_string()"
      ],
      "execution_count": 19,
      "outputs": [
        {
          "output_type": "stream",
          "text": [
            "---------\n",
            " | 33 |\n",
            "--------\n",
            " | 4 |\n",
            "--------\n",
            " | 45 |\n",
            "--------\n",
            " | 10 |\n",
            "--------\n",
            " | 34 |\n",
            "--------\n",
            "******\n",
            "66\n",
            "---------\n",
            " | 4 |\n",
            "--------\n",
            " | 45 |\n",
            "--------\n",
            " | 10 |\n",
            "--------\n",
            " | 34 |\n",
            "--------\n",
            "******\n",
            "8\n",
            "---------\n",
            " | 4 |\n",
            "--------\n",
            " | 45 |\n",
            "--------\n",
            " | 10 |\n",
            "--------\n",
            " | 34 |\n",
            "--------\n"
          ],
          "name": "stdout"
        }
      ]
    },
    {
      "cell_type": "code",
      "metadata": {
        "colab": {
          "base_uri": "https://localhost:8080/"
        },
        "id": "GPKiHUqFB-6Q",
        "outputId": "aa57d30a-08be-4df1-9800-a34ea907c79e"
      },
      "source": [
        "#Aplicaciones de Stack - Pilas\n",
        "\n",
        "#1 Validacion de parentesis balaceados '('  '{'  '['\n",
        "\n",
        "cadena=\"b=3*(5+(4/2))\"\n",
        "pilan = Stack()\n",
        "pilan.push(\"#\") #Pila vacia \n",
        "for elem in cadena :\n",
        "  if elem == '(' :\n",
        "    pilan.push(\"*\")\n",
        "  elif elem == ')' :\n",
        "    pilan.pop()\n",
        "  else: \n",
        "    pass\n",
        "if pilan.peak() == '#':\n",
        "  print(\"La cadena es valida\")\n",
        "else:\n",
        "    print(\"Cadena no valida\")"
      ],
      "execution_count": 22,
      "outputs": [
        {
          "output_type": "stream",
          "text": [
            "La cadena es valida\n"
          ],
          "name": "stdout"
        }
      ]
    }
  ]
}
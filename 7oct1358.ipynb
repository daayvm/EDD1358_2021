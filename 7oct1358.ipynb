{
  "nbformat": 4,
  "nbformat_minor": 0,
  "metadata": {
    "colab": {
      "name": "7oct1358.ipynb",
      "provenance": [],
      "authorship_tag": "ABX9TyOrYiYkNGf2gR6eWR3zccjs",
      "include_colab_link": true
    },
    "kernelspec": {
      "name": "python3",
      "display_name": "Python 3"
    }
  },
  "cells": [
    {
      "cell_type": "markdown",
      "metadata": {
        "id": "view-in-github",
        "colab_type": "text"
      },
      "source": [
        "<a href=\"https://colab.research.google.com/github/daayvm/EDD1358_2021/blob/master/7oct1358.ipynb\" target=\"_parent\"><img src=\"https://colab.research.google.com/assets/colab-badge.svg\" alt=\"Open In Colab\"/></a>"
      ]
    },
    {
      "cell_type": "code",
      "metadata": {
        "id": "nGNmcZqGm_pt",
        "outputId": "eec36594-6451-459a-fe35-ad3c5319f986",
        "colab": {
          "base_uri": "https://localhost:8080/"
        }
      },
      "source": [
        "#Listas de dos dimesiones\n",
        "\n",
        "autos = [\"Mazda\", \"Akura\", \"Honda\", \"Ford\"]\n",
        "tele = [\"iphone\", \"Huawei mate 30\", \"Xiaomi s10\", \"Alcatel\"]\n",
        "sisope = [\"Windows\", \"Linux\", \"Android\", \"ios\", \"MacOS\"]\n",
        "procesa = [[\"Intel\", 3.1, True],[\"AMD\", 2.7, False],[\"Motorola\",1.1,False]]\n",
        "\n",
        "lista_nd = [autos,tele,sisope,procesa]\n",
        "print(lista_nd)\n",
        "print(lista_nd[2][3])\n",
        "print(lista_nd[1][1][3:6])\n",
        "print(lista_nd[3][1][1])\n",
        "print(lista_nd[3][2][0][2:6])\n",
        "print(lista_nd[3][0][0][3:0:-1])"
      ],
      "execution_count": 32,
      "outputs": [
        {
          "output_type": "stream",
          "text": [
            "[['Mazda', 'Akura', 'Honda', 'Ford'], ['iphone', 'Huawei mate 30', 'Xiaomi s10', 'Alcatel'], ['Windows', 'Linux', 'Android', 'ios', 'MacOS'], [['Intel', 3.1, True], ['AMD', 2.7, False], ['Motorola', 1.1, False]]]\n",
            "ios\n",
            "wei\n",
            "2.7\n",
            "toro\n",
            "etn\n"
          ],
          "name": "stdout"
        }
      ]
    },
    {
      "cell_type": "code",
      "metadata": {
        "id": "f1l7JTX6rkOp",
        "outputId": "4fb3fe35-e0e1-48ef-d246-70157d3b6758",
        "colab": {
          "base_uri": "https://localhost:8080/"
        }
      },
      "source": [
        "colores = (\"rojo\", \"verde\", \"azul\", \"negro\")\n",
        "flores = (\"margarita\", \"rosa\")\n",
        "#Concatenamos listas\n",
        "nueva = colores + flores\n",
        "print(colores)\n",
        "print(flores)\n",
        "print(nueva)\n",
        "\n",
        "# Extends\n",
        "#colores.extends(flores)\n",
        "print(colores)\n",
        "print(\"----------\")\n",
        "#umpaking\n",
        "datos_pero = (\"Dayra\", \"Velasco\", \"Martell\", 20,1.50,False)\n",
        "nombre = datos_pero[0]\n",
        "print(nombre)\n",
        "#Hay forma mas facil\n",
        "nombre,paterno,materno,edad,estatu,fuma = datos_pero\n",
        "print(f\"Nombre: {nombre}\\n Edad: {edad} \\n Estatura: {estatu}m \\n Fuma: {fuma}\")\n",
        "\n"
      ],
      "execution_count": 60,
      "outputs": [
        {
          "output_type": "stream",
          "text": [
            "('rojo', 'verde', 'azul', 'negro')\n",
            "('margarita', 'rosa')\n",
            "('rojo', 'verde', 'azul', 'negro', 'margarita', 'rosa')\n",
            "('rojo', 'verde', 'azul', 'negro')\n",
            "----------\n",
            "Dayra\n",
            "Nombre: Dayra\n",
            " Edad: 20 \n",
            " Estatura: 1.5m \n",
            " Fuma: False\n"
          ],
          "name": "stdout"
        }
      ]
    },
    {
      "cell_type": "code",
      "metadata": {
        "id": "lor24OUiuOxk",
        "outputId": "6fabaf08-845f-4829-bd5a-3be345298d08",
        "colab": {
          "base_uri": "https://localhost:8080/"
        }
      },
      "source": [
        "#Tuplas\n",
        "bd = ('127.0.0.0','root','toor','1345')\n",
        "##bd [1] = 'user1'\n",
        "#No podemos modificar la tupla\n",
        "print(f\"Uusuario de la BD es {bd[1]}\")\n",
        "print(bd[1:3])\n"
      ],
      "execution_count": 57,
      "outputs": [
        {
          "output_type": "stream",
          "text": [
            "Uusuario de la BD es root\n",
            "('root', 'toor')\n"
          ],
          "name": "stdout"
        }
      ]
    },
    {
      "cell_type": "code",
      "metadata": {
        "id": "HMkJLd3ZwIgL",
        "outputId": "fdf760c3-7e77-4831-8629-e0a307c19c6e",
        "colab": {
          "base_uri": "https://localhost:8080/"
        }
      },
      "source": [
        "#Diccionarios\n",
        "alumno = {'Nombre': 'Dayra', 'edad':20, 'carrera': 'ICO'}\n",
        "print(alumno)\n",
        "print(alumno['edad'])\n",
        "\n",
        "alumnon = {'Nombre': 'Dayra', \n",
        "           'edad':20, \n",
        "           'carrera': 'ICO',\n",
        "           'Direccion':{'Calle':'AvMex ',\n",
        "            'Numero': 128,\n",
        "            'Delegacion':'Xochi' \n",
        "\n",
        "              }\n",
        "           \n",
        "           }\n",
        "print(alumnon['Direccion'])\n",
        "print(alumnon['Direccion']['Delegacion'])\n",
        "print(alumnon['Direccion']['Delegacion'][1:4].upper())\n",
        "alumno['edad'] = 100\n",
        "print(alumno)\n",
        "alumno['promedio'] = 10\n",
        "print(alumno)\n",
        "alumnon['Direccion']['CP: '] = 16600\n",
        "print(alumnon)\n",
        "alumno ['materia']={'nombee': 'CYP',\n",
        "                    'Calificacion': 10\n",
        "                    }\n",
        "print(alumno)                  \n"
      ],
      "execution_count": 81,
      "outputs": [
        {
          "output_type": "stream",
          "text": [
            "{'Nombre': 'Dayra', 'edad': 20, 'carrera': 'ICO'}\n",
            "20\n",
            "{'Calle': 'AvMex ', 'Numero': 128, 'Delegacion': 'Xochi'}\n",
            "Xochi\n",
            "OCH\n",
            "{'Nombre': 'Dayra', 'edad': 100, 'carrera': 'ICO'}\n",
            "{'Nombre': 'Dayra', 'edad': 100, 'carrera': 'ICO', 'promedio': 10}\n",
            "{'Nombre': 'Dayra', 'edad': 20, 'carrera': 'ICO', 'Direccion': {'Calle': 'AvMex ', 'Numero': 128, 'Delegacion': 'Xochi', 'CP: ': 16600}}\n",
            "{'Nombre': 'Dayra', 'edad': 100, 'carrera': 'ICO', 'promedio': 10, 'materia': {'nombee': 'CYP', 'Calificacion': 10}}\n"
          ],
          "name": "stdout"
        }
      ]
    }
  ]
}
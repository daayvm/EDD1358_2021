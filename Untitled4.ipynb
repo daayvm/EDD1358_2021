{
  "nbformat": 4,
  "nbformat_minor": 0,
  "metadata": {
    "colab": {
      "name": "Untitled4.ipynb",
      "provenance": [],
      "authorship_tag": "ABX9TyM6OXJ4VR9GEaywfCAQF7cS",
      "include_colab_link": true
    },
    "kernelspec": {
      "name": "python3",
      "display_name": "Python 3"
    }
  },
  "cells": [
    {
      "cell_type": "markdown",
      "metadata": {
        "id": "view-in-github",
        "colab_type": "text"
      },
      "source": [
        "<a href=\"https://colab.research.google.com/github/daayvm/EDD1358_2021/blob/master/Untitled4.ipynb\" target=\"_parent\"><img src=\"https://colab.research.google.com/assets/colab-badge.svg\" alt=\"Open In Colab\"/></a>"
      ]
    },
    {
      "cell_type": "code",
      "metadata": {
        "id": "W78YcHHuraiQ"
      },
      "source": [
        "#Lista circular siemplmente ligada\n",
        "\n",
        "class Nodo:\n",
        "  def __init__( self , value , next = None):\n",
        "    self.dato = value\n",
        "    self.next = next\n",
        "\n",
        "class CircularList:\n",
        "  def __init__ (self):\n",
        "    self.__ref = None\n",
        "    self.__size = 0 \n",
        "\n",
        "  def is_empty (self): \n",
        "    return self.__size == 0\n",
        "  \n",
        "  def trans (self):\n",
        "    curr_node = self.__ref.next\n",
        "    while curr_node.dato != self.__ref.dato:\n",
        "      print( curr_node.dato , \"-->\" , end=\"\" )\n",
        "      curr_node = curr_node.next\n",
        "    print(\"\")\n",
        "\n",
        "  def insert(self, value):\n",
        "    if self.__size == 0:\n",
        "      self.__ref = Nodo(value)\n",
        "    elif self.__size == 1:\n",
        "      if value < self.__ref.dato:\n",
        "        nuevo = Nodo(value, self.__ref)\n",
        "        self.__ref.next = nuevo\n",
        "      else:\n",
        "        nuevo = Nodo(value, self.__ref)\n",
        "        self.__ref.next = nuevo\n",
        "        self.__ref = nuevo\n",
        "    else:\n",
        "      if value > self.__ref.dato:\n",
        "        nuevo = Nodo(value, self.__ref.next)\n",
        "        self.__ref.next = nuevo\n",
        "        self.__ref = nuevo\n",
        "      elif value < self.__ref.next.dato:\n",
        "        nuevo = Nodo(value, self.__ref.next)\n",
        "        self.__ref.next = nuevo\n",
        "      else:\n",
        "        curr_node = self.__ref.next\n",
        "        while curr_node.dato < value:\n",
        "          anterior = curr_node\n",
        "          curr_node = curr_node.next\n",
        "        nuevo = Nodo(value, curr_node)\n",
        "        anterior.next = nuevo\n",
        "    self.__size += 1\n",
        "  \n",
        "  \n",
        "  def remove(self, value):\n",
        "      curr_node = self.__ref\n",
        "      node_aux = self.__ref\n",
        "      while (node_aux.dato != value):\n",
        "        node_aux = node_aux.next\n",
        "\n",
        "      while (curr_node.snext != node_aux):\n",
        "        curr_node = curr_node.next\n",
        "\n",
        "      curr_node.next = curr_node.next.next"
      ],
      "execution_count": 8,
      "outputs": []
    },
    {
      "cell_type": "code",
      "metadata": {
        "colab": {
          "base_uri": "https://localhost:8080/",
          "height": 316
        },
        "id": "WPDFE6IWrdGW",
        "outputId": "caacf8bb-d3e4-4755-87d2-1f6fec3787f1"
      },
      "source": [
        "cd = CircularList()\n",
        "cd.insert(10)\n",
        "cd.trans()"
      ],
      "execution_count": 11,
      "outputs": [
        {
          "output_type": "error",
          "ename": "AttributeError",
          "evalue": "ignored",
          "traceback": [
            "\u001b[0;31m---------------------------------------------------------------------------\u001b[0m",
            "\u001b[0;31mAttributeError\u001b[0m                            Traceback (most recent call last)",
            "\u001b[0;32m<ipython-input-11-a5fe16e1476b>\u001b[0m in \u001b[0;36m<module>\u001b[0;34m()\u001b[0m\n\u001b[1;32m      1\u001b[0m \u001b[0mcd\u001b[0m \u001b[0;34m=\u001b[0m \u001b[0mCircularList\u001b[0m\u001b[0;34m(\u001b[0m\u001b[0;34m)\u001b[0m\u001b[0;34m\u001b[0m\u001b[0;34m\u001b[0m\u001b[0m\n\u001b[1;32m      2\u001b[0m \u001b[0mcd\u001b[0m\u001b[0;34m.\u001b[0m\u001b[0minsert\u001b[0m\u001b[0;34m(\u001b[0m\u001b[0;36m10\u001b[0m\u001b[0;34m)\u001b[0m\u001b[0;34m\u001b[0m\u001b[0;34m\u001b[0m\u001b[0m\n\u001b[0;32m----> 3\u001b[0;31m \u001b[0mcd\u001b[0m\u001b[0;34m.\u001b[0m\u001b[0mtrans\u001b[0m\u001b[0;34m(\u001b[0m\u001b[0;34m)\u001b[0m\u001b[0;34m\u001b[0m\u001b[0;34m\u001b[0m\u001b[0m\n\u001b[0m",
            "\u001b[0;32m<ipython-input-8-b97d4eb5b472>\u001b[0m in \u001b[0;36mtrans\u001b[0;34m(self)\u001b[0m\n\u001b[1;32m     16\u001b[0m   \u001b[0;32mdef\u001b[0m \u001b[0mtrans\u001b[0m \u001b[0;34m(\u001b[0m\u001b[0mself\u001b[0m\u001b[0;34m)\u001b[0m\u001b[0;34m:\u001b[0m\u001b[0;34m\u001b[0m\u001b[0;34m\u001b[0m\u001b[0m\n\u001b[1;32m     17\u001b[0m     \u001b[0mcurr_node\u001b[0m \u001b[0;34m=\u001b[0m \u001b[0mself\u001b[0m\u001b[0;34m.\u001b[0m\u001b[0m__ref\u001b[0m\u001b[0;34m.\u001b[0m\u001b[0mnext\u001b[0m\u001b[0;34m\u001b[0m\u001b[0;34m\u001b[0m\u001b[0m\n\u001b[0;32m---> 18\u001b[0;31m     \u001b[0;32mwhile\u001b[0m \u001b[0mcurr_node\u001b[0m\u001b[0;34m.\u001b[0m\u001b[0mdato\u001b[0m \u001b[0;34m!=\u001b[0m \u001b[0mself\u001b[0m\u001b[0;34m.\u001b[0m\u001b[0m__ref\u001b[0m\u001b[0;34m.\u001b[0m\u001b[0mdato\u001b[0m\u001b[0;34m:\u001b[0m\u001b[0;34m\u001b[0m\u001b[0;34m\u001b[0m\u001b[0m\n\u001b[0m\u001b[1;32m     19\u001b[0m       \u001b[0mprint\u001b[0m\u001b[0;34m(\u001b[0m \u001b[0mcurr_node\u001b[0m\u001b[0;34m.\u001b[0m\u001b[0mdato\u001b[0m \u001b[0;34m,\u001b[0m \u001b[0;34m\"-->\"\u001b[0m \u001b[0;34m,\u001b[0m \u001b[0mend\u001b[0m\u001b[0;34m=\u001b[0m\u001b[0;34m\"\"\u001b[0m \u001b[0;34m)\u001b[0m\u001b[0;34m\u001b[0m\u001b[0;34m\u001b[0m\u001b[0m\n\u001b[1;32m     20\u001b[0m       \u001b[0mcurr_node\u001b[0m \u001b[0;34m=\u001b[0m \u001b[0mcurr_node\u001b[0m\u001b[0;34m.\u001b[0m\u001b[0mnext\u001b[0m\u001b[0;34m\u001b[0m\u001b[0;34m\u001b[0m\u001b[0m\n",
            "\u001b[0;31mAttributeError\u001b[0m: 'NoneType' object has no attribute 'dato'"
          ]
        }
      ]
    }
  ]
}
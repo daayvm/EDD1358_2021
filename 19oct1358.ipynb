{
  "nbformat": 4,
  "nbformat_minor": 0,
  "metadata": {
    "colab": {
      "name": "19oct1358.ipynb",
      "provenance": [],
      "authorship_tag": "ABX9TyP8OHu7poUF76L1besLgLJX",
      "include_colab_link": true
    },
    "kernelspec": {
      "name": "python3",
      "display_name": "Python 3"
    }
  },
  "cells": [
    {
      "cell_type": "markdown",
      "metadata": {
        "id": "view-in-github",
        "colab_type": "text"
      },
      "source": [
        "<a href=\"https://colab.research.google.com/github/daayvm/EDD1358_2021/blob/master/19oct1358.ipynb\" target=\"_parent\"><img src=\"https://colab.research.google.com/assets/colab-badge.svg\" alt=\"Open In Colab\"/></a>"
      ]
    },
    {
      "cell_type": "code",
      "metadata": {
        "id": "OA0JPwOYZ2_9",
        "outputId": "0ea6ce9f-ab52-42b9-cdf0-3a80bda0d5f6",
        "colab": {
          "base_uri": "https://localhost:8080/",
          "height": 68
        }
      },
      "source": [
        "#Funcion read()\n",
        "archivo = open('sample_data/frutas.txt','rt')\n",
        "##(direccion del archivo , como leerlo)\n",
        "data = archivo.read()\n",
        "print(data.upper())\n",
        "\n",
        "archivo.close()"
      ],
      "execution_count": 8,
      "outputs": [
        {
          "output_type": "stream",
          "text": [
            "LIMON, AGUACATE, FRESA, MANZANA\n",
            "CIRUELA, CAPULIN, NARANJA\n",
            "PERA, KIWI\n"
          ],
          "name": "stdout"
        }
      ]
    },
    {
      "cell_type": "code",
      "metadata": {
        "id": "cwBYJYRkciLA",
        "outputId": "a73eebc7-e6d6-45ec-8ed2-a4a876a42849",
        "colab": {
          "base_uri": "https://localhost:8080/",
          "height": 35
        }
      },
      "source": [
        "pwd\n",
        "##Para saber donde esta el archivo\n"
      ],
      "execution_count": 7,
      "outputs": [
        {
          "output_type": "execute_result",
          "data": {
            "application/vnd.google.colaboratory.intrinsic+json": {
              "type": "string"
            },
            "text/plain": [
              "'/content'"
            ]
          },
          "metadata": {
            "tags": []
          },
          "execution_count": 7
        }
      ]
    },
    {
      "cell_type": "code",
      "metadata": {
        "id": "q-3PIDMKeBMd",
        "outputId": "bb464c9b-470b-4d47-ad3b-aea501adddde",
        "colab": {
          "base_uri": "https://localhost:8080/",
          "height": 119
        }
      },
      "source": [
        "#Funcion readline() va leyendo linea por linea\n",
        "#readines() podemos leer todo\n",
        "archivo = open('sample_data/frutas.txt','rt')\n",
        "\n",
        "data = archivo.readline()\n",
        "while data != \"\":\n",
        "    print(data)\n",
        "    data = archivo.readline()\n",
        "\n",
        "archivo.close\n"
      ],
      "execution_count": 19,
      "outputs": [
        {
          "output_type": "stream",
          "text": [
            "limon, aguacate, fresa, manzana\n",
            "\n",
            "ciruela, capulin, naranja\n",
            "\n",
            "pera, kiwi\n"
          ],
          "name": "stdout"
        },
        {
          "output_type": "execute_result",
          "data": {
            "text/plain": [
              "<function TextIOWrapper.close>"
            ]
          },
          "metadata": {
            "tags": []
          },
          "execution_count": 19
        }
      ]
    },
    {
      "cell_type": "code",
      "metadata": {
        "id": "2NvYg6fngDpj",
        "outputId": "0fcc6bc3-9771-44a5-fb7c-4e2b407ffee5",
        "colab": {
          "base_uri": "https://localhost:8080/",
          "height": 88
        }
      },
      "source": [
        "##Funcion readlines()\n",
        "archivo = open('sample_data/frutas.txt','rt')\n",
        "\n",
        "data = archivo.readlines()\n",
        "#data es una lista\n",
        "print(data)\n",
        "\n",
        "frutas = []\n",
        "for linea in data:\n",
        "    frutas.append(linea.strip())\n",
        "\n",
        "frutas_final = []\n",
        "for ele in frutas:\n",
        "    for fruta in ele.split(','):\n",
        "        frutas_final.append(fruta.strip()) \n",
        "\n",
        "print(frutas_final)\n",
        "\n",
        "\n",
        "archivo.close"
      ],
      "execution_count": 26,
      "outputs": [
        {
          "output_type": "stream",
          "text": [
            "['limon, aguacate, fresa, manzana\\n', 'ciruela, capulin, naranja\\n', 'pera, kiwi']\n",
            "['limon', 'aguacate', 'fresa', 'manzana', 'ciruela', 'capulin', 'naranja', 'pera', 'kiwi']\n"
          ],
          "name": "stdout"
        },
        {
          "output_type": "execute_result",
          "data": {
            "text/plain": [
              "<function TextIOWrapper.close>"
            ]
          },
          "metadata": {
            "tags": []
          },
          "execution_count": 26
        }
      ]
    },
    {
      "cell_type": "markdown",
      "metadata": {
        "id": "lzAW9u26lINc"
      },
      "source": [
        "##POO con Python\n",
        "* Clase\n",
        "* Objetos\n",
        "* Atributos\n",
        "* Metodos \n",
        "* Metodo constructor\n",
        "* Encapsulamientos (public/private)\n",
        "* Herencia \n",
        "##Para declarar clases en python se usa CLASS"
      ]
    },
    {
      "cell_type": "code",
      "metadata": {
        "id": "gx07P4f3lKRe",
        "outputId": "3d46b399-e9b6-4759-a0e0-29daee7ea48b",
        "colab": {
          "base_uri": "https://localhost:8080/",
          "height": 51
        }
      },
      "source": [
        "class Persona:\n",
        "    ## Para declarar un constructos debe llevar def__init__\n",
        "    ## no lleva el mismo nomre de la clase\n",
        "    def __init__(self, edd, est):\n",
        "            self.__edad = edd\n",
        "            self.__estatura = est\n",
        "\n",
        "    def to_string(self):\n",
        "        print(f\"Edad={self.__edad}, Estatura={self.__estatura}\")\n",
        "\n",
        "per1 = Persona(21,1.50)\n",
        "per1.to_string()\n",
        "per1.__estatura = 10.4\n",
        "per1.to_string()\n",
        "    "
      ],
      "execution_count": 57,
      "outputs": [
        {
          "output_type": "stream",
          "text": [
            "Edad=21, Estatura=1.5\n",
            "Edad=21, Estatura=1.5\n"
          ],
          "name": "stdout"
        }
      ]
    }
  ]
}
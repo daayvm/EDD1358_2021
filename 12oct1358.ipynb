{
  "nbformat": 4,
  "nbformat_minor": 0,
  "metadata": {
    "colab": {
      "name": "12oct1358.ipynb",
      "provenance": [],
      "authorship_tag": "ABX9TyMkWsAGk9lIRFk+zn8PVuZS",
      "include_colab_link": true
    },
    "kernelspec": {
      "name": "python3",
      "display_name": "Python 3"
    }
  },
  "cells": [
    {
      "cell_type": "markdown",
      "metadata": {
        "id": "view-in-github",
        "colab_type": "text"
      },
      "source": [
        "<a href=\"https://colab.research.google.com/github/daayvm/EDD1358_2021/blob/master/12oct1358.ipynb\" target=\"_parent\"><img src=\"https://colab.research.google.com/assets/colab-badge.svg\" alt=\"Open In Colab\"/></a>"
      ]
    },
    {
      "cell_type": "code",
      "metadata": {
        "id": "Iil9EpzUWGof",
        "outputId": "e997ee4a-c311-4ae4-8acb-f1f9fc5a0c51",
        "colab": {
          "base_uri": "https://localhost:8080/",
          "height": 122
        }
      },
      "source": [
        "#Diccionarios continuacion\n",
        "clientebanc = {\n",
        "            \"id\" : 1,\n",
        "            \"nombres\" : [\"Dayra\",\"Antonia\"],\n",
        "            \"paterno\" : \"Velasco\",\n",
        "            \"materno\" : \"Martell\",\n",
        "            \"telefonos\" : {\n",
        "                        \"casa\": 5512364856,\n",
        "                        \"celular\" : 551333333,\n",
        "                        \"trabajo\" : 551234569\n",
        "                           },\n",
        "               \"activo\" : True,\n",
        "               \"balance\" : 2345.84,\n",
        "               \"tarjetas\" : ({\"Tipo\" : \"debito\", \"Saldo\" : 1523655},\n",
        "                             {\"Tipo\" : \"credito\", \"Saldo\" : 2600})\n",
        "              }\n",
        "print(clientebanc)\n",
        "#clientebanc[\"balance\"] = clientebanc[\"balance\"] -100\n",
        "clientebanc[\"balance\"] -= 1008 \n",
        "print(clientebanc)  \n",
        "\n",
        "clientebanc[\"tarjetas\"] = ({ \"tipo\" :\"Debito\" , \"saldo\": 12000},\n",
        "                           { \"tipo\" :\"credito\" , \"saldo\": 12052},\n",
        "                           { \"tipo\" :\"credito\" , \"nievel\": \"oro\",\"saldo\":50000})\n",
        "print(clientebanc)                           \n",
        "clientebanc[\"direccion\"]= {\"calle\":\"rancho\", \"nume\": 128}\n",
        "print(clientebanc) \n",
        "clientebanc.pop(\"tarjetas\")       \n",
        "print(clientebanc)                   \n"
      ],
      "execution_count": 14,
      "outputs": [
        {
          "output_type": "stream",
          "text": [
            "{'id': 1, 'nombres': ['Dayra', 'Antonia'], 'paterno': 'Velasco', 'materno': 'Martell', 'telefonos': {'casa': 5512364856, 'celular': 551333333, 'trabajo': 551234569}, 'activo': True, 'balance': 2345.84, 'tarjetas': ({'Tipo': 'debito', 'Saldo': 1523655}, {'Tipo': 'credito', 'Saldo': 2600})}\n",
            "{'id': 1, 'nombres': ['Dayra', 'Antonia'], 'paterno': 'Velasco', 'materno': 'Martell', 'telefonos': {'casa': 5512364856, 'celular': 551333333, 'trabajo': 551234569}, 'activo': True, 'balance': 1337.8400000000001, 'tarjetas': ({'Tipo': 'debito', 'Saldo': 1523655}, {'Tipo': 'credito', 'Saldo': 2600})}\n",
            "{'id': 1, 'nombres': ['Dayra', 'Antonia'], 'paterno': 'Velasco', 'materno': 'Martell', 'telefonos': {'casa': 5512364856, 'celular': 551333333, 'trabajo': 551234569}, 'activo': True, 'balance': 1337.8400000000001, 'tarjetas': ({'tipo': 'Debito', 'saldo': 12000}, {'tipo': 'credito', 'saldo': 12052}, {'tipo': 'credito', 'nievel': 'oro', 'saldo': 50000})}\n",
            "{'id': 1, 'nombres': ['Dayra', 'Antonia'], 'paterno': 'Velasco', 'materno': 'Martell', 'telefonos': {'casa': 5512364856, 'celular': 551333333, 'trabajo': 551234569}, 'activo': True, 'balance': 1337.8400000000001, 'tarjetas': ({'tipo': 'Debito', 'saldo': 12000}, {'tipo': 'credito', 'saldo': 12052}, {'tipo': 'credito', 'nievel': 'oro', 'saldo': 50000}), 'direccion': {'calle': 'rancho', 'nume': 128}}\n",
            "{'id': 1, 'nombres': ['Dayra', 'Antonia'], 'paterno': 'Velasco', 'materno': 'Martell', 'telefonos': {'casa': 5512364856, 'celular': 551333333, 'trabajo': 551234569}, 'activo': True, 'balance': 1337.8400000000001, 'direccion': {'calle': 'rancho', 'nume': 128}}\n"
          ],
          "name": "stdout"
        }
      ]
    },
    {
      "cell_type": "code",
      "metadata": {
        "id": "uetSl-6ydmgV",
        "outputId": "668e73ad-0bd4-4a6c-d694-3d04a023ee74",
        "colab": {
          "base_uri": "https://localhost:8080/",
          "height": 547
        }
      },
      "source": [
        "llaves =  clientebanc.keys()\n",
        "print(llaves)\n",
        "#imprime la lista de las llaves del dirccionario\n",
        "print(type(llaves))\n",
        "for x in llaves:\n",
        "  print(x)\n",
        "print(\"-----------\")\n",
        "##regresa pares del lado derecho\n",
        "valores = clientebanc.values()\n",
        "print(valores)\n",
        "for v in valores:\n",
        "  print (v)\n",
        "print(\"-----------\")\n",
        "#regresa la lista de tuplas\n",
        "pares = clientebanc.items()\n",
        "print(pares)\n",
        "for p in pares:\n",
        "  print(f\" {p[0]} = {p[1]}\")"
      ],
      "execution_count": 26,
      "outputs": [
        {
          "output_type": "stream",
          "text": [
            "dict_keys(['id', 'nombres', 'paterno', 'materno', 'telefonos', 'activo', 'balance', 'direccion'])\n",
            "<class 'dict_keys'>\n",
            "id\n",
            "nombres\n",
            "paterno\n",
            "materno\n",
            "telefonos\n",
            "activo\n",
            "balance\n",
            "direccion\n",
            "-----------\n",
            "dict_values([1, ['Dayra', 'Antonia'], 'Velasco', 'Martell', {'casa': 5512364856, 'celular': 551333333, 'trabajo': 551234569}, True, 1337.8400000000001, {'calle': 'rancho', 'nume': 128}])\n",
            "1\n",
            "['Dayra', 'Antonia']\n",
            "Velasco\n",
            "Martell\n",
            "{'casa': 5512364856, 'celular': 551333333, 'trabajo': 551234569}\n",
            "True\n",
            "1337.8400000000001\n",
            "{'calle': 'rancho', 'nume': 128}\n",
            "-----------\n",
            "dict_items([('id', 1), ('nombres', ['Dayra', 'Antonia']), ('paterno', 'Velasco'), ('materno', 'Martell'), ('telefonos', {'casa': 5512364856, 'celular': 551333333, 'trabajo': 551234569}), ('activo', True), ('balance', 1337.8400000000001), ('direccion', {'calle': 'rancho', 'nume': 128})])\n",
            " id = 1\n",
            " nombres = ['Dayra', 'Antonia']\n",
            " paterno = Velasco\n",
            " materno = Martell\n",
            " telefonos = {'casa': 5512364856, 'celular': 551333333, 'trabajo': 551234569}\n",
            " activo = True\n",
            " balance = 1337.8400000000001\n",
            " direccion = {'calle': 'rancho', 'nume': 128}\n"
          ],
          "name": "stdout"
        }
      ]
    },
    {
      "cell_type": "code",
      "metadata": {
        "id": "JvC5Usrng4p1",
        "outputId": "76510f2d-4279-4439-d294-a96f569e28de",
        "colab": {
          "base_uri": "https://localhost:8080/",
          "height": 34
        }
      },
      "source": [
        "fruta = {\"nombre\":\"manzana\",\"color\": \"rojo\", \"estado\":\"Chihuahua\"}\n",
        "fcaracteristica = {\"vitamina\" : \"D\"}\n",
        "#con update le madas el otro diccionario para agregar\n",
        "fruta.update(fcaracteristica)\n",
        "print(fruta)"
      ],
      "execution_count": 28,
      "outputs": [
        {
          "output_type": "stream",
          "text": [
            "{'nombre': 'manzana', 'color': 'rojo', 'estado': 'Chihuahua', 'vitamina': 'D'}\n"
          ],
          "name": "stdout"
        }
      ]
    },
    {
      "cell_type": "markdown",
      "metadata": {
        "id": "fWQRwvq2iQCf"
      },
      "source": [
        "##Funciones\n",
        "* Recibe de 0 - n argymentos de entrada\n",
        "* Regresa solo un valor, pero puede ser nulo/NONE (python)\n",
        "* Tiene un nombre unico en el contexto.\n",
        "* Se pueden hacer solo dos cosas con funciones :\n",
        "    - Definirlas\n",
        "    - Llamarla"
      ]
    },
    {
      "cell_type": "code",
      "metadata": {
        "id": "2JH0EJKwi9im",
        "outputId": "8fd3929f-9868-4bbe-d462-365a7ef3b167",
        "colab": {
          "base_uri": "https://localhost:8080/",
          "height": 51
        }
      },
      "source": [
        "def suma (a,b):\n",
        "    return a+b\n",
        "##Si enceuntra dos es redefinida\n",
        "#def suma (x,y):\n",
        "    #return None\n",
        "def saludar():\n",
        "    print(\"Hola, como estas?\")\n",
        "    return None ##puede o no \n",
        "x = 10\n",
        "y = 20\n",
        "c = suma(x,y)\n",
        "\n",
        "print(c)\n",
        "saludar()"
      ],
      "execution_count": 39,
      "outputs": [
        {
          "output_type": "stream",
          "text": [
            "30\n",
            "Hola, como estas?\n"
          ],
          "name": "stdout"
        }
      ]
    },
    {
      "cell_type": "markdown",
      "metadata": {
        "id": "2Ub2iYk6ktb4"
      },
      "source": [
        "## None = nulo en otros lenguajes\n",
        "#None y las funciones\n",
        "* Aprovechar el uso de none en paso de paramentros"
      ]
    },
    {
      "cell_type": "code",
      "metadata": {
        "id": "PMGSkuNzk6mf",
        "outputId": "3bd3f068-d9cb-4de2-dfe7-77c6f3fbdeac",
        "colab": {
          "base_uri": "https://localhost:8080/",
          "height": 51
        }
      },
      "source": [
        "def calcular ( base , veces):\n",
        "    if base !=  None:\n",
        "        res = base * veces \n",
        "    else:\n",
        "        res = \"desconocido\"\n",
        "    return res\n",
        "\n",
        "print(calcular(8,5))\n",
        "print(calcular(None,5))"
      ],
      "execution_count": 50,
      "outputs": [
        {
          "output_type": "stream",
          "text": [
            "40\n",
            "desconocido\n"
          ],
          "name": "stdout"
        }
      ]
    }
  ]
}